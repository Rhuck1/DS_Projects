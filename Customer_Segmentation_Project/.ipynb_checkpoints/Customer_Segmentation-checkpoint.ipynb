{
 "cells": [
  {
   "cell_type": "markdown",
   "id": "bab74d46-4e94-49a2-a47c-00707bbe134f",
   "metadata": {},
   "source": [
    "## Project 2: Customer Segmentation"
   ]
  },
  {
   "cell_type": "markdown",
   "id": "8754c3e9-1670-467f-9a9a-4c827b86f1c3",
   "metadata": {},
   "source": [
    "## Objective: \n",
    "### Assist the automobile company in segmenting new potential customers for targeted outreach and communication based on the existing successful segmentation strategy in their current market."
   ]
  },
  {
   "cell_type": "markdown",
   "id": "73ddebae-04b3-4fe8-b59b-84e35423a2f0",
   "metadata": {},
   "source": [
    "Project Stages:\n",
    "\n",
    "1. Familiarize Myself with the Dataset:  \n",
    "\n",
    "    <ins>Objective</ins>: Familiarize myself with the dataset provided for the analysis.  \n",
    "    <ins>Steps</ins>: Clean and preprocess the dataset to ensure accuracy and relevance.  \n",
    "\n",
    "2. Exploratory Data Analysis (EDA):  \n",
    "\n",
    "    <ins>Objective</ins>: Understand the characteristics of the dataset and identify patterns that may influence customer segmentation.  \n",
    "    <ins>Steps</ins>: Conduct exploratory analysis to grasp the distribution of variables such as gender, marital status, age, education, profession, work experience, spending score, family size, and anonymized category (Var_1).\n",
    "    Visualize relationships and trends within the dataset to uncover potential insights that may inform customer segmentation.   \n",
    "\n",
    "3. Data Preprocessing:  \n",
    "\n",
    "    <ins>Objective</ins>: Prepare the dataset for segmentation modeling by handling missing values and encoding categorical variables.  \n",
    "    <ins>Steps</ins>: Address any missing or inconsistent data points.\n",
    "    Encode categorical variables, such as gender, marital status, education, profession, and Var_1, to make them suitable for segmentation modeling.  \n",
    "\n",
    "4. Customer Segmentation Modeling:  \n",
    "\n",
    "    <ins>Objective</ins>: Develop a segmentation model to categorize new potential customers into groups similar to the existing customer segments (A, B, C, D).  \n",
    "    <ins>Steps</ins>: Define the target variable as \"Segmentation\" and other relevant features for segmentation modeling.\n",
    "    Choose an appropriate segmentation algorithm (e.g., k-means clustering).\n",
    "    Train the model on the existing customer data with known segments (A, B, C, D).\n",
    "    Apply the trained model to predict segments for the new potential customers.  \n",
    "\n",
    "5. Segmentation Validation:  \n",
    "\n",
    "    <ins>Objective</ins>: Validate the segmentation model's effectiveness and assess its performance on the existing dataset.  \n",
    "    <ins>Steps</ins>: Evaluate the model's performance using relevant metrics (e.g., silhouette score, if using k-means).\n",
    "    Validate the predicted segments against the known segments in the existing dataset.\n",
    "    Adjust the model as needed based on validation results.  \n",
    "\n",
    "6. Interpretation and Profiling:  \n",
    "\n",
    "    <ins>Objective</ins>: Interpret the characteristics of each customer segment and create customer profiles.  \n",
    "    <ins>Steps</ins>: Analyze the features that contribute to the segmentation of customers.\n",
    "    Create detailed profiles for each segment, highlighting the distinguishing characteristics.\n",
    "    Provide insights into the preferences and behaviors associated with each segment.  \n",
    "\n",
    "5. Recommendations for Outreach:  \n",
    "\n",
    "    <ins>Objective</ins>: Provide actionable recommendations for targeted outreach and communication strategies for each customer segment.  \n",
    "    <ins>Steps</ins>: Based on the identified customer profiles, suggest personalized communication approaches for each segment.\n",
    "    Highlight specific product offerings or marketing messages that may resonate with each segment.\n",
    "    Propose strategies for engaging customers in a way that aligns with their segment preferences.  \n",
    "\n",
    "6. Presentation of Results:  \n",
    "\n",
    "    <ins>Objective</ins>: Compile and present a comprehensive report for the management team, emphasizing the identified segments and actionable recommendations.  \n",
    "    <ins>Steps</ins>: Organize key findings, segmentation results, and outreach recommendations into a clear and cohesive report.\n",
    "    Prepare a visually compelling presentation summarizing the project, showcasing the effectiveness of the segmentation model, and providing strategic guidance for customer outreach in new markets.  \n",
    "\n",
    "8. Deliverables:  \n",
    "\n",
    "    <ins>Dataset</ins>: Cleaned and preprocessed dataset.  \n",
    "    <ins>Analysis Report</ins>: Detailed report showcasing customer segments, behavioral insights, and actionable recommendations.  \n",
    "    <ins>Machine Learning Model (if applicable)</ins>: Presentation of the developed ML model and its recommendations.  \n",
    "    <ins>Presentation</ins>: Engaging presentation summarizing key findings and strategies for tailored marketing.  "
   ]
  },
  {
   "cell_type": "code",
   "execution_count": 2,
   "id": "a8164e57-cfe7-48a8-aa7f-5519aceea89b",
   "metadata": {},
   "outputs": [],
   "source": [
    "import numpy as np\n",
    "import pandas as pd\n",
    "import plotly.express as px    \n",
    "import plotly.graph_objects as go"
   ]
  },
  {
   "cell_type": "markdown",
   "id": "9160c8d8-a51d-4477-b311-231c021dba44",
   "metadata": {},
   "source": [
    "### Stage 1 - Familiarization with the Data"
   ]
  },
  {
   "cell_type": "code",
   "execution_count": 3,
   "id": "ca1508af-9bf5-49a3-8453-b06daf01b06c",
   "metadata": {},
   "outputs": [],
   "source": [
    "customer_data = pd.read_csv(\"Customer_Segmentation_Dataset.csv\")"
   ]
  },
  {
   "cell_type": "code",
   "execution_count": 4,
   "id": "655cedee-6b61-4b81-9848-13252c8f394a",
   "metadata": {},
   "outputs": [
    {
     "data": {
      "text/plain": [
       "Index(['ID', 'Gender', 'Ever_Married', 'Age', 'Graduated', 'Profession',\n",
       "       'Work_Experience', 'Spending_Score', 'Family_Size', 'Var_1',\n",
       "       'Segmentation'],\n",
       "      dtype='object')"
      ]
     },
     "execution_count": 4,
     "metadata": {},
     "output_type": "execute_result"
    }
   ],
   "source": [
    "customer_data.columns"
   ]
  },
  {
   "cell_type": "code",
   "execution_count": 5,
   "id": "55644d2e-7f86-4289-93d5-63383dc5ab3a",
   "metadata": {},
   "outputs": [
    {
     "name": "stdout",
     "output_type": "stream",
     "text": [
      "<class 'pandas.core.frame.DataFrame'>\n",
      "RangeIndex: 8068 entries, 0 to 8067\n",
      "Data columns (total 11 columns):\n",
      " #   Column           Non-Null Count  Dtype  \n",
      "---  ------           --------------  -----  \n",
      " 0   ID               8068 non-null   int64  \n",
      " 1   Gender           8068 non-null   object \n",
      " 2   Ever_Married     7928 non-null   object \n",
      " 3   Age              8068 non-null   int64  \n",
      " 4   Graduated        7990 non-null   object \n",
      " 5   Profession       7944 non-null   object \n",
      " 6   Work_Experience  7239 non-null   float64\n",
      " 7   Spending_Score   8068 non-null   object \n",
      " 8   Family_Size      7733 non-null   float64\n",
      " 9   Var_1            7992 non-null   object \n",
      " 10  Segmentation     8068 non-null   object \n",
      "dtypes: float64(2), int64(2), object(7)\n",
      "memory usage: 693.5+ KB\n"
     ]
    }
   ],
   "source": [
    "customer_data.info()"
   ]
  },
  {
   "cell_type": "code",
   "execution_count": 6,
   "id": "0fca8d21-b10e-4e57-83cf-935ae794d918",
   "metadata": {},
   "outputs": [
    {
     "data": {
      "text/html": [
       "<div>\n",
       "<style scoped>\n",
       "    .dataframe tbody tr th:only-of-type {\n",
       "        vertical-align: middle;\n",
       "    }\n",
       "\n",
       "    .dataframe tbody tr th {\n",
       "        vertical-align: top;\n",
       "    }\n",
       "\n",
       "    .dataframe thead th {\n",
       "        text-align: right;\n",
       "    }\n",
       "</style>\n",
       "<table border=\"1\" class=\"dataframe\">\n",
       "  <thead>\n",
       "    <tr style=\"text-align: right;\">\n",
       "      <th></th>\n",
       "      <th>ID</th>\n",
       "      <th>Age</th>\n",
       "      <th>Work_Experience</th>\n",
       "      <th>Family_Size</th>\n",
       "    </tr>\n",
       "  </thead>\n",
       "  <tbody>\n",
       "    <tr>\n",
       "      <th>count</th>\n",
       "      <td>8068.000000</td>\n",
       "      <td>8068.000000</td>\n",
       "      <td>7239.000000</td>\n",
       "      <td>7733.000000</td>\n",
       "    </tr>\n",
       "    <tr>\n",
       "      <th>mean</th>\n",
       "      <td>463479.214551</td>\n",
       "      <td>43.466906</td>\n",
       "      <td>2.641663</td>\n",
       "      <td>2.850123</td>\n",
       "    </tr>\n",
       "    <tr>\n",
       "      <th>std</th>\n",
       "      <td>2595.381232</td>\n",
       "      <td>16.711696</td>\n",
       "      <td>3.406763</td>\n",
       "      <td>1.531413</td>\n",
       "    </tr>\n",
       "    <tr>\n",
       "      <th>min</th>\n",
       "      <td>458982.000000</td>\n",
       "      <td>18.000000</td>\n",
       "      <td>0.000000</td>\n",
       "      <td>1.000000</td>\n",
       "    </tr>\n",
       "    <tr>\n",
       "      <th>25%</th>\n",
       "      <td>461240.750000</td>\n",
       "      <td>30.000000</td>\n",
       "      <td>0.000000</td>\n",
       "      <td>2.000000</td>\n",
       "    </tr>\n",
       "    <tr>\n",
       "      <th>50%</th>\n",
       "      <td>463472.500000</td>\n",
       "      <td>40.000000</td>\n",
       "      <td>1.000000</td>\n",
       "      <td>3.000000</td>\n",
       "    </tr>\n",
       "    <tr>\n",
       "      <th>75%</th>\n",
       "      <td>465744.250000</td>\n",
       "      <td>53.000000</td>\n",
       "      <td>4.000000</td>\n",
       "      <td>4.000000</td>\n",
       "    </tr>\n",
       "    <tr>\n",
       "      <th>max</th>\n",
       "      <td>467974.000000</td>\n",
       "      <td>89.000000</td>\n",
       "      <td>14.000000</td>\n",
       "      <td>9.000000</td>\n",
       "    </tr>\n",
       "  </tbody>\n",
       "</table>\n",
       "</div>"
      ],
      "text/plain": [
       "                  ID          Age  Work_Experience  Family_Size\n",
       "count    8068.000000  8068.000000      7239.000000  7733.000000\n",
       "mean   463479.214551    43.466906         2.641663     2.850123\n",
       "std      2595.381232    16.711696         3.406763     1.531413\n",
       "min    458982.000000    18.000000         0.000000     1.000000\n",
       "25%    461240.750000    30.000000         0.000000     2.000000\n",
       "50%    463472.500000    40.000000         1.000000     3.000000\n",
       "75%    465744.250000    53.000000         4.000000     4.000000\n",
       "max    467974.000000    89.000000        14.000000     9.000000"
      ]
     },
     "execution_count": 6,
     "metadata": {},
     "output_type": "execute_result"
    }
   ],
   "source": [
    "customer_data.describe()"
   ]
  },
  {
   "cell_type": "code",
   "execution_count": 2,
   "id": "e309cc06-7a54-46b3-8e0c-331abe50779e",
   "metadata": {},
   "outputs": [
    {
     "ename": "NameError",
     "evalue": "name 'customer_data' is not defined",
     "output_type": "error",
     "traceback": [
      "\u001b[0;31m---------------------------------------------------------------------------\u001b[0m",
      "\u001b[0;31mNameError\u001b[0m                                 Traceback (most recent call last)",
      "\u001b[0;32m<ipython-input-2-0c59865c3997>\u001b[0m in \u001b[0;36m<module>\u001b[0;34m\u001b[0m\n\u001b[0;32m----> 1\u001b[0;31m \u001b[0mcustomer_data\u001b[0m\u001b[0;34m[\u001b[0m\u001b[0mcustomer_data\u001b[0m\u001b[0;34m[\u001b[0m\u001b[0;34m'Segmentation'\u001b[0m\u001b[0;34m]\u001b[0m \u001b[0;34m==\u001b[0m \u001b[0;34m'A'\u001b[0m\u001b[0;34m]\u001b[0m\u001b[0;34m.\u001b[0m\u001b[0minfo\u001b[0m\u001b[0;34m(\u001b[0m\u001b[0;34m)\u001b[0m\u001b[0;34m\u001b[0m\u001b[0;34m\u001b[0m\u001b[0m\n\u001b[0m",
      "\u001b[0;31mNameError\u001b[0m: name 'customer_data' is not defined"
     ]
    }
   ],
   "source": [
    "customer_data[customer_data['Segmentation'] == 'A'].info()"
   ]
  },
  {
   "cell_type": "code",
   "execution_count": null,
   "id": "4e8de817-4703-48aa-9358-4fd70c4ff9a4",
   "metadata": {},
   "outputs": [],
   "source": [
    "customer_data[customer_data['Segmentation'] == 'B'].info()"
   ]
  },
  {
   "cell_type": "code",
   "execution_count": null,
   "id": "033c6432-a486-46e0-812b-c754cfc09f32",
   "metadata": {},
   "outputs": [],
   "source": [
    "customer_data[customer_data['Segmentation'] == 'C'].info()"
   ]
  },
  {
   "cell_type": "code",
   "execution_count": null,
   "id": "acca145d-657f-4eca-8631-92b297633e7c",
   "metadata": {},
   "outputs": [],
   "source": [
    "customer_data[customer_data['Segmentation'] == 'D'].info()"
   ]
  },
  {
   "cell_type": "code",
   "execution_count": null,
   "id": "081d8a76-1a9c-45b6-b17f-fae8c5b1215b",
   "metadata": {},
   "outputs": [],
   "source": []
  },
  {
   "cell_type": "code",
   "execution_count": 7,
   "id": "1c528ba6-e20f-4885-a970-942cc44d90ac",
   "metadata": {},
   "outputs": [
    {
     "data": {
      "text/html": [
       "<div>\n",
       "<style scoped>\n",
       "    .dataframe tbody tr th:only-of-type {\n",
       "        vertical-align: middle;\n",
       "    }\n",
       "\n",
       "    .dataframe tbody tr th {\n",
       "        vertical-align: top;\n",
       "    }\n",
       "\n",
       "    .dataframe thead th {\n",
       "        text-align: right;\n",
       "    }\n",
       "</style>\n",
       "<table border=\"1\" class=\"dataframe\">\n",
       "  <thead>\n",
       "    <tr style=\"text-align: right;\">\n",
       "      <th></th>\n",
       "      <th>ID</th>\n",
       "      <th>Gender</th>\n",
       "      <th>Ever_Married</th>\n",
       "      <th>Age</th>\n",
       "      <th>Graduated</th>\n",
       "      <th>Profession</th>\n",
       "      <th>Work_Experience</th>\n",
       "      <th>Spending_Score</th>\n",
       "      <th>Family_Size</th>\n",
       "      <th>Var_1</th>\n",
       "      <th>Segmentation</th>\n",
       "    </tr>\n",
       "  </thead>\n",
       "  <tbody>\n",
       "    <tr>\n",
       "      <th>0</th>\n",
       "      <td>462809</td>\n",
       "      <td>Male</td>\n",
       "      <td>No</td>\n",
       "      <td>22</td>\n",
       "      <td>No</td>\n",
       "      <td>Healthcare</td>\n",
       "      <td>1.0</td>\n",
       "      <td>Low</td>\n",
       "      <td>4.0</td>\n",
       "      <td>Cat_4</td>\n",
       "      <td>D</td>\n",
       "    </tr>\n",
       "    <tr>\n",
       "      <th>1</th>\n",
       "      <td>462643</td>\n",
       "      <td>Female</td>\n",
       "      <td>Yes</td>\n",
       "      <td>38</td>\n",
       "      <td>Yes</td>\n",
       "      <td>Engineer</td>\n",
       "      <td>NaN</td>\n",
       "      <td>Average</td>\n",
       "      <td>3.0</td>\n",
       "      <td>Cat_4</td>\n",
       "      <td>A</td>\n",
       "    </tr>\n",
       "    <tr>\n",
       "      <th>2</th>\n",
       "      <td>466315</td>\n",
       "      <td>Female</td>\n",
       "      <td>Yes</td>\n",
       "      <td>67</td>\n",
       "      <td>Yes</td>\n",
       "      <td>Engineer</td>\n",
       "      <td>1.0</td>\n",
       "      <td>Low</td>\n",
       "      <td>1.0</td>\n",
       "      <td>Cat_6</td>\n",
       "      <td>B</td>\n",
       "    </tr>\n",
       "    <tr>\n",
       "      <th>3</th>\n",
       "      <td>461735</td>\n",
       "      <td>Male</td>\n",
       "      <td>Yes</td>\n",
       "      <td>67</td>\n",
       "      <td>Yes</td>\n",
       "      <td>Lawyer</td>\n",
       "      <td>0.0</td>\n",
       "      <td>High</td>\n",
       "      <td>2.0</td>\n",
       "      <td>Cat_6</td>\n",
       "      <td>B</td>\n",
       "    </tr>\n",
       "    <tr>\n",
       "      <th>4</th>\n",
       "      <td>462669</td>\n",
       "      <td>Female</td>\n",
       "      <td>Yes</td>\n",
       "      <td>40</td>\n",
       "      <td>Yes</td>\n",
       "      <td>Entertainment</td>\n",
       "      <td>NaN</td>\n",
       "      <td>High</td>\n",
       "      <td>6.0</td>\n",
       "      <td>Cat_6</td>\n",
       "      <td>A</td>\n",
       "    </tr>\n",
       "  </tbody>\n",
       "</table>\n",
       "</div>"
      ],
      "text/plain": [
       "       ID  Gender Ever_Married  Age Graduated     Profession  Work_Experience  \\\n",
       "0  462809    Male           No   22        No     Healthcare              1.0   \n",
       "1  462643  Female          Yes   38       Yes       Engineer              NaN   \n",
       "2  466315  Female          Yes   67       Yes       Engineer              1.0   \n",
       "3  461735    Male          Yes   67       Yes         Lawyer              0.0   \n",
       "4  462669  Female          Yes   40       Yes  Entertainment              NaN   \n",
       "\n",
       "  Spending_Score  Family_Size  Var_1 Segmentation  \n",
       "0            Low          4.0  Cat_4            D  \n",
       "1        Average          3.0  Cat_4            A  \n",
       "2            Low          1.0  Cat_6            B  \n",
       "3           High          2.0  Cat_6            B  \n",
       "4           High          6.0  Cat_6            A  "
      ]
     },
     "execution_count": 7,
     "metadata": {},
     "output_type": "execute_result"
    }
   ],
   "source": [
    "customer_data.head()"
   ]
  },
  {
   "cell_type": "code",
   "execution_count": 8,
   "id": "a337010a-acd1-4fe6-b9a5-b358f438d576",
   "metadata": {},
   "outputs": [
    {
     "data": {
      "text/plain": [
       "(8068, 11)"
      ]
     },
     "execution_count": 8,
     "metadata": {},
     "output_type": "execute_result"
    }
   ],
   "source": [
    "customer_data.shape"
   ]
  },
  {
   "cell_type": "code",
   "execution_count": 9,
   "id": "4bbd93b2-95f0-42a7-ab9b-b0c02674119a",
   "metadata": {},
   "outputs": [
    {
     "data": {
      "text/plain": [
       "ID                   0\n",
       "Gender               0\n",
       "Ever_Married       140\n",
       "Age                  0\n",
       "Graduated           78\n",
       "Profession         124\n",
       "Work_Experience    829\n",
       "Spending_Score       0\n",
       "Family_Size        335\n",
       "Var_1               76\n",
       "Segmentation         0\n",
       "dtype: int64"
      ]
     },
     "execution_count": 9,
     "metadata": {},
     "output_type": "execute_result"
    }
   ],
   "source": [
    "customer_data.isnull().sum()"
   ]
  },
  {
   "cell_type": "code",
   "execution_count": 10,
   "id": "254948d7-953d-4945-bb99-63b8df5cc2ea",
   "metadata": {},
   "outputs": [],
   "source": [
    "customer_data_cleaned = customer_data.dropna()"
   ]
  },
  {
   "cell_type": "code",
   "execution_count": 11,
   "id": "556bbc6f-a167-4fb2-ae8e-4c1a71d07134",
   "metadata": {},
   "outputs": [
    {
     "data": {
      "text/plain": [
       "(6665, 11)"
      ]
     },
     "execution_count": 11,
     "metadata": {},
     "output_type": "execute_result"
    }
   ],
   "source": [
    "customer_data_cleaned.shape"
   ]
  },
  {
   "cell_type": "code",
   "execution_count": 13,
   "id": "2a9400c6-a008-4311-9767-9b81b536d698",
   "metadata": {},
   "outputs": [
    {
     "data": {
      "text/plain": [
       "1403"
      ]
     },
     "execution_count": 13,
     "metadata": {},
     "output_type": "execute_result"
    }
   ],
   "source": [
    "8068 - 6665"
   ]
  },
  {
   "cell_type": "code",
   "execution_count": 14,
   "id": "b7595b97-0449-4ea7-bec6-af1da80ea877",
   "metadata": {},
   "outputs": [
    {
     "data": {
      "text/plain": [
       "ID                 0\n",
       "Gender             0\n",
       "Ever_Married       0\n",
       "Age                0\n",
       "Graduated          0\n",
       "Profession         0\n",
       "Work_Experience    0\n",
       "Spending_Score     0\n",
       "Family_Size        0\n",
       "Var_1              0\n",
       "Segmentation       0\n",
       "dtype: int64"
      ]
     },
     "execution_count": 14,
     "metadata": {},
     "output_type": "execute_result"
    }
   ],
   "source": [
    "customer_data_cleaned.isnull().sum()"
   ]
  },
  {
   "cell_type": "markdown",
   "id": "524cfb05-c07b-410c-82b9-810d57f2ef6c",
   "metadata": {},
   "source": [
    "Need to assign imputation of data to the columns Ever_Married, Graduated, Profession, Work_Experience, Family_Size, and Var_1 where possible. Probably need to segment data by Segmentation and then by other columns as much as possible in order to attempt accurate imputation."
   ]
  },
  {
   "cell_type": "code",
   "execution_count": 1,
   "id": "fbf7c12a-afdf-486d-b0c4-cb142604f808",
   "metadata": {},
   "outputs": [
    {
     "ename": "NameError",
     "evalue": "name 'customer_date' is not defined",
     "output_type": "error",
     "traceback": [
      "\u001b[0;31m---------------------------------------------------------------------------\u001b[0m",
      "\u001b[0;31mNameError\u001b[0m                                 Traceback (most recent call last)",
      "\u001b[0;32m<ipython-input-1-d5982444f52e>\u001b[0m in \u001b[0;36m<module>\u001b[0;34m\u001b[0m\n\u001b[0;32m----> 1\u001b[0;31m \u001b[0mcustomer_date\u001b[0m\u001b[0;34m[\u001b[0m\u001b[0mcustomer_data\u001b[0m\u001b[0;34m[\u001b[0m\u001b[0;34m'Ever_Married'\u001b[0m\u001b[0;34m]\u001b[0m\u001b[0;34m.\u001b[0m\u001b[0misnull\u001b[0m\u001b[0;34m(\u001b[0m\u001b[0;34m)\u001b[0m\u001b[0;34m]\u001b[0m\u001b[0;34m\u001b[0m\u001b[0;34m\u001b[0m\u001b[0m\n\u001b[0m",
      "\u001b[0;31mNameError\u001b[0m: name 'customer_date' is not defined"
     ]
    }
   ],
   "source": [
    "customer_data[customer_data['Ever_Married'].isnull()]"
   ]
  },
  {
   "cell_type": "code",
   "execution_count": null,
   "id": "adaf552f-3c0e-4c67-a520-1891d07002f4",
   "metadata": {},
   "outputs": [],
   "source": []
  },
  {
   "cell_type": "code",
   "execution_count": null,
   "id": "db87f1fd-82c2-43ea-9863-c6f4f71592c2",
   "metadata": {},
   "outputs": [],
   "source": []
  },
  {
   "cell_type": "code",
   "execution_count": 15,
   "id": "924a3b6f-26f4-419d-a3c5-ee8e28e3915d",
   "metadata": {},
   "outputs": [
    {
     "name": "stdout",
     "output_type": "stream",
     "text": [
      "<class 'pandas.core.frame.DataFrame'>\n",
      "Int64Index: 6665 entries, 0 to 8067\n",
      "Data columns (total 11 columns):\n",
      " #   Column           Non-Null Count  Dtype  \n",
      "---  ------           --------------  -----  \n",
      " 0   ID               6665 non-null   int64  \n",
      " 1   Gender           6665 non-null   object \n",
      " 2   Ever_Married     6665 non-null   object \n",
      " 3   Age              6665 non-null   int64  \n",
      " 4   Graduated        6665 non-null   object \n",
      " 5   Profession       6665 non-null   object \n",
      " 6   Work_Experience  6665 non-null   float64\n",
      " 7   Spending_Score   6665 non-null   object \n",
      " 8   Family_Size      6665 non-null   float64\n",
      " 9   Var_1            6665 non-null   object \n",
      " 10  Segmentation     6665 non-null   object \n",
      "dtypes: float64(2), int64(2), object(7)\n",
      "memory usage: 624.8+ KB\n"
     ]
    }
   ],
   "source": [
    "customer_data_cleaned.info()"
   ]
  },
  {
   "cell_type": "code",
   "execution_count": null,
   "id": "4d5b4fa1-911e-405a-bbd0-712c5f881152",
   "metadata": {},
   "outputs": [],
   "source": [
    "customer_data_cleaned.to_csv(\"Cleaned_Customer_Segmentation_Dataset.csv\")"
   ]
  },
  {
   "cell_type": "code",
   "execution_count": null,
   "id": "e03e735f-8fdf-446e-a62e-48dcc81e94dc",
   "metadata": {},
   "outputs": [],
   "source": []
  },
  {
   "cell_type": "code",
   "execution_count": 16,
   "id": "87562305-71d9-4f91-b02b-8af2b5f2aaa9",
   "metadata": {},
   "outputs": [
    {
     "data": {
      "text/plain": [
       "<pandas.core.groupby.generic.DataFrameGroupBy object at 0x7f9f71bc4a50>"
      ]
     },
     "execution_count": 16,
     "metadata": {},
     "output_type": "execute_result"
    }
   ],
   "source": [
    "customer_data.groupby(\"Profession\")"
   ]
  },
  {
   "cell_type": "code",
   "execution_count": null,
   "id": "66268c96-ebaf-4db2-9927-09f6612b8e3f",
   "metadata": {},
   "outputs": [],
   "source": []
  },
  {
   "cell_type": "code",
   "execution_count": null,
   "id": "706e96d0-b7d0-4bd8-94c6-ceed3f2da8cc",
   "metadata": {},
   "outputs": [],
   "source": []
  },
  {
   "cell_type": "code",
   "execution_count": null,
   "id": "d8de30cc-1860-49da-86f7-ab70d1651a23",
   "metadata": {},
   "outputs": [],
   "source": []
  },
  {
   "cell_type": "code",
   "execution_count": null,
   "id": "c301e37b-b4f3-497c-8d98-c4443deef09a",
   "metadata": {},
   "outputs": [],
   "source": []
  }
 ],
 "metadata": {
  "kernelspec": {
   "display_name": "Python 3",
   "language": "python",
   "name": "python3"
  },
  "language_info": {
   "codemirror_mode": {
    "name": "ipython",
    "version": 3
   },
   "file_extension": ".py",
   "mimetype": "text/x-python",
   "name": "python",
   "nbconvert_exporter": "python",
   "pygments_lexer": "ipython3",
   "version": "3.7.9"
  }
 },
 "nbformat": 4,
 "nbformat_minor": 5
}
