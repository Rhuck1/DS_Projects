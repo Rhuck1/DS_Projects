{
 "cells": [
  {
   "cell_type": "markdown",
   "id": "bab74d46-4e94-49a2-a47c-00707bbe134f",
   "metadata": {},
   "source": [
    "## Project 2: Customer Segmentation"
   ]
  },
  {
   "cell_type": "markdown",
   "id": "8754c3e9-1670-467f-9a9a-4c827b86f1c3",
   "metadata": {},
   "source": [
    "## Objective: \n",
    "### Assist a fictitious automobile company in segmenting new potential customers for targeted outreach and communication based on the existing successful segmentation strategy in their current market.  \n",
    "### This is supervised learning problem"
   ]
  },
  {
   "cell_type": "markdown",
   "id": "73ddebae-04b3-4fe8-b59b-84e35423a2f0",
   "metadata": {},
   "source": [
    "4. Customer Segmentation Modeling:  \n",
    "\n",
    "    <ins>Objective</ins>: Develop a segmentation model to categorize new potential customers into groups similar to the existing customer segments (A, B, C, D).  \n",
    "    <ins>Steps</ins>: Define the target variable as \"Segmentation\" and other relevant features for segmentation modeling.\n",
    "    Choose an appropriate segmentation algorithm (e.g., k-means clustering).\n",
    "    Train the model on the existing customer data with known segments (A, B, C, D).\n",
    "    Apply the trained model to predict segments for the new potential customers.  \n",
    "\n",
    "5. Segmentation Validation:  \n",
    "\n",
    "    <ins>Objective</ins>: Validate the segmentation model's effectiveness and assess its performance on the existing dataset.  \n",
    "    <ins>Steps</ins>: Evaluate the model's performance using relevant metrics (e.g., silhouette score, if using k-means).\n",
    "    Validate the predicted segments against the known segments in the existing dataset.\n",
    "    Adjust the model as needed based on validation results.  \n",
    "\n",
    "6. Interpretation and Profiling:  \n",
    "\n",
    "    <ins>Objective</ins>: Interpret the characteristics of each customer segment and create customer profiles.  \n",
    "    <ins>Steps</ins>: Analyze the features that contribute to the segmentation of customers.\n",
    "    Create detailed profiles for each segment, highlighting the distinguishing characteristics.\n",
    "    Provide insights into the preferences and behaviors associated with each segment.  \n",
    "\n",
    "5. Recommendations for Outreach:  \n",
    "\n",
    "    <ins>Objective</ins>: Provide actionable recommendations for targeted outreach and communication strategies for each customer segment.  \n",
    "    <ins>Steps</ins>: Based on the identified customer profiles, suggest personalized communication approaches for each segment.\n",
    "    Highlight specific product offerings or marketing messages that may resonate with each segment.\n",
    "    Propose strategies for engaging customers in a way that aligns with their segment preferences.  \n",
    "\n",
    "6. Presentation of Results:  \n",
    "\n",
    "    <ins>Objective</ins>: Compile and present a comprehensive report for the management team, emphasizing the identified segments and actionable recommendations.  \n",
    "    <ins>Steps</ins>: Organize key findings, segmentation results, and outreach recommendations into a clear and cohesive report.\n",
    "    Prepare a visually compelling presentation summarizing the project, showcasing the effectiveness of the segmentation model, and providing strategic guidance for customer outreach in new markets.  \n",
    "\n",
    "8. Deliverables:  \n",
    "\n",
    "    <ins>Dataset</ins>: Cleaned and preprocessed dataset.  \n",
    "    <ins>Analysis Report</ins>: Detailed report showcasing customer segments, behavioral insights, and actionable recommendations.  \n",
    "    <ins>Machine Learning Model (if applicable)</ins>: Presentation of the developed ML model and its recommendations.  \n",
    "    <ins>Presentation</ins>: Engaging presentation summarizing key findings and strategies for tailored marketing.  "
   ]
  },
  {
   "cell_type": "code",
   "execution_count": 1,
   "id": "a8164e57-cfe7-48a8-aa7f-5519aceea89b",
   "metadata": {
    "tags": []
   },
   "outputs": [],
   "source": [
    "import numpy as np\n",
    "import pandas as pd\n",
    "import missingno as msno\n",
    "import plotly.express as px    \n",
    "import plotly.graph_objects as go"
   ]
  },
  {
   "cell_type": "markdown",
   "id": "9160c8d8-a51d-4477-b311-231c021dba44",
   "metadata": {},
   "source": [
    "### Stage 1 - Familiarization with the Data  \n",
    "\n",
    "Objective: Familiarize myself with the dataset provided for the analysis.  \n",
    "Steps: Clean and preprocess the dataset to ensure accuracy and relevance.  "
   ]
  },
  {
   "cell_type": "code",
   "execution_count": null,
   "id": "72541748-ad41-4e1d-8d95-bdf4141358ad",
   "metadata": {},
   "outputs": [],
   "source": [
    "# Creating Train Test Splits before analysis\n"
   ]
  },
  {
   "cell_type": "code",
   "execution_count": 33,
   "id": "ca1508af-9bf5-49a3-8453-b06daf01b06c",
   "metadata": {},
   "outputs": [
    {
     "name": "stdout",
     "output_type": "stream",
     "text": [
      "              Null Breakdown \n",
      "\n",
      "ID                   0\n",
      "Gender               0\n",
      "Ever_Married       140\n",
      "Age                  0\n",
      "Graduated           78\n",
      "Profession         124\n",
      "Work_Experience    829\n",
      "Spending_Score       0\n",
      "Family_Size        335\n",
      "Var_1               76\n",
      "Segmentation         0\n",
      "dtype: int64\n",
      "\n",
      "            Data .info() \n",
      "\n",
      "<class 'pandas.core.frame.DataFrame'>\n",
      "RangeIndex: 8068 entries, 0 to 8067\n",
      "Data columns (total 11 columns):\n",
      " #   Column           Non-Null Count  Dtype  \n",
      "---  ------           --------------  -----  \n",
      " 0   ID               8068 non-null   int64  \n",
      " 1   Gender           8068 non-null   object \n",
      " 2   Ever_Married     7928 non-null   object \n",
      " 3   Age              8068 non-null   int64  \n",
      " 4   Graduated        7990 non-null   object \n",
      " 5   Profession       7944 non-null   object \n",
      " 6   Work_Experience  7239 non-null   float64\n",
      " 7   Spending_Score   8068 non-null   object \n",
      " 8   Family_Size      7733 non-null   float64\n",
      " 9   Var_1            7992 non-null   object \n",
      " 10  Segmentation     8068 non-null   object \n",
      "dtypes: float64(2), int64(2), object(7)\n",
      "memory usage: 693.5+ KB\n",
      "None\n",
      "\n",
      "            Data .describe() \n",
      "\n",
      "                  ID          Age  Work_Experience  Family_Size\n",
      "count    8068.000000  8068.000000      7239.000000  7733.000000\n",
      "mean   463479.214551    43.466906         2.641663     2.850123\n",
      "std      2595.381232    16.711696         3.406763     1.531413\n",
      "min    458982.000000    18.000000         0.000000     1.000000\n",
      "25%    461240.750000    30.000000         0.000000     2.000000\n",
      "50%    463472.500000    40.000000         1.000000     3.000000\n",
      "75%    465744.250000    53.000000         4.000000     4.000000\n",
      "max    467974.000000    89.000000        14.000000     9.000000\n"
     ]
    }
   ],
   "source": [
    "customer_data = pd.read_csv(\"Customer_Segmentation_Dataset.csv\")\n",
    "print(\"              Null Breakdown \\n\")\n",
    "print(customer_data.isna().sum())\n",
    "print(\"\\n            Data .info() \\n\")\n",
    "print(customer_data.info())\n",
    "print(\"\\n            Data .describe() \\n\")\n",
    "print(customer_data.describe())"
   ]
  },
  {
   "cell_type": "markdown",
   "id": "d6549883-a0ab-4206-bd17-2120568ec578",
   "metadata": {},
   "source": [
    "| Data .describe() |        ID |       Age |   Work_Experience |   Family_Size |\n",
    "|:-----------------|----------:|----------:|------------------:|--------------:|\n",
    "| count            |   8068    | 8068      |        7239       |    7733       |\n",
    "| mean             | 463479    |   43.4669 |           2.64166 |       2.85012 |\n",
    "| std              |   2595.38 |   16.7117 |           3.40676 |       1.53141 |\n",
    "| min              | 458982    |   18      |           0       |       1       |\n",
    "| 25%              | 461241    |   30      |           0       |       2       |\n",
    "| 50%              | 463472    |   40      |           1       |       3       |\n",
    "| 75%              | 465744    |   53      |           4       |       4       |\n",
    "| max              | 467974    |   89      |          14       |       9       |\n"
   ]
  },
  {
   "cell_type": "code",
   "execution_count": 114,
   "id": "6cd2b0cf-bffc-4753-b06c-0220fcdd6057",
   "metadata": {},
   "outputs": [
    {
     "name": "stdout",
     "output_type": "stream",
     "text": [
      "Unique Professions: ['Artist' 'Doctor' 'Engineer' 'Entertainment' 'Executive' 'Healthcare'\n",
      " 'Homemaker' 'Lawyer' 'Marketing' nan] \n",
      "\n",
      "Unique Spending Score: ['Low' 'Average' 'High'] \n",
      "\n",
      "Unique Var_1: ['Cat_1' 'Cat_2' 'Cat_3' 'Cat_4' 'Cat_5' 'Cat_6' 'Cat_7' nan] \n",
      "\n",
      "Unique Segmentation: ['A' 'B' 'C' 'D'] \n",
      "\n",
      "Null Breakdown by Segment:\n",
      "\n",
      "Rows with Nulls in Segment A: 356\n",
      "Rows with Nulls in Segment B: 286\n",
      "Rows with Nulls in Segment C: 250\n",
      "Rows with Nulls in Segment D: 511\n",
      "\n",
      "Records per Segment:\n",
      "\n",
      "Rows in Segment A: 1972\n",
      "Rows in Segment B: 1858\n",
      "Rows in Segment C: 1970\n",
      "Rows in Segment D: 2268\n",
      "\n",
      "% of Rows to Drop per Segment due to Nulls:\n",
      "\n",
      "Segment A: 18.05%\n",
      "Segment B: 15.39%\n",
      "Segment c: 12.69%\n",
      "Segment D: 22.53%\n"
     ]
    }
   ],
   "source": [
    "print(\"Unique Professions:\", customer_data['Profession'].sort_values().unique(), \"\\n\")\n",
    "print(\"Unique Spending Score:\", customer_data['Spending_Score'].unique(), \"\\n\")\n",
    "print(\"Unique Var_1:\", customer_data['Var_1'].sort_values().unique(), \"\\n\")\n",
    "print(\"Unique Segmentation:\", customer_data['Segmentation'].sort_values().unique(), \"\\n\")\n",
    "A = customer_data[customer_data['Segmentation'] == 'A'].isna().sum(axis=1)\n",
    "B = customer_data[customer_data['Segmentation'] == 'B'].isna().sum(axis=1)\n",
    "C = customer_data[customer_data['Segmentation'] == 'C'].isna().sum(axis=1)\n",
    "D = customer_data[customer_data['Segmentation'] == 'D'].isna().sum(axis=1)\n",
    "print(\"Null Breakdown by Segment:\\n\")\n",
    "print(\"Rows with Nulls in Segment A:\", A[A != 0].count())\n",
    "print(\"Rows with Nulls in Segment B:\", B[B != 0].count())\n",
    "print(\"Rows with Nulls in Segment C:\", C[C != 0].count())\n",
    "print(\"Rows with Nulls in Segment D:\", D[D != 0].count())\n",
    "print(\"\\nRecords per Segment:\\n\")\n",
    "print(\"Rows in Segment A:\", customer_data[customer_data['Segmentation'] == 'A'].shape[0])\n",
    "print(\"Rows in Segment B:\", customer_data[customer_data['Segmentation'] == 'B'].shape[0])\n",
    "print(\"Rows in Segment C:\", customer_data[customer_data['Segmentation'] == 'C'].shape[0])\n",
    "print(\"Rows in Segment D:\", customer_data[customer_data['Segmentation'] == 'D'].shape[0])\n",
    "print(\"\\n% of Rows to Drop per Segment due to Nulls:\\n\")\n",
    "print(\"Segment A:\", str(round(A[A != 0].count() / customer_data[customer_data['Segmentation'] == 'A'].shape[0] * 100, 2)) + \"%\") \n",
    "print(\"Segment B:\", str(round(B[B != 0].count() / customer_data[customer_data['Segmentation'] == 'B'].shape[0] * 100, 2)) + \"%\") \n",
    "print(\"Segment c:\", str(round(C[C != 0].count() / customer_data[customer_data['Segmentation'] == 'C'].shape[0] * 100, 2)) + \"%\") \n",
    "print(\"Segment D:\", str(round(D[D != 0].count() / customer_data[customer_data['Segmentation'] == 'D'].shape[0] * 100, 2)) + \"%\") "
   ]
  },
  {
   "cell_type": "markdown",
   "id": "8b37776a-c49c-492f-bff5-7902a9f66fff",
   "metadata": {},
   "source": [
    "### Visual representation of Nulls"
   ]
  },
  {
   "cell_type": "code",
   "execution_count": 52,
   "id": "b29d3a49-7e47-4771-96cb-96f70724073c",
   "metadata": {},
   "outputs": [
    {
     "data": {
      "text/plain": [
       "<AxesSubplot:>"
      ]
     },
     "execution_count": 52,
     "metadata": {},
     "output_type": "execute_result"
    },
    {
     "data": {
      "image/png": "[encoded data removed]",
      "text/plain": [
       "<Figure size 1800x720 with 2 Axes>"
      ]
     },
     "metadata": {
      "needs_background": "light"
     },
     "output_type": "display_data"
    }
   ],
   "source": [
    "msno.matrix(customer_data)"
   ]
  },
  {
   "cell_type": "code",
   "execution_count": 103,
   "id": "03c892f2-7cff-456f-b9f6-033729cd0cb7",
   "metadata": {},
   "outputs": [
    {
     "data": {
      "text/plain": [
       "<AxesSubplot:>"
      ]
     },
     "execution_count": 103,
     "metadata": {},
     "output_type": "execute_result"
    },
    {
     "data": {
      "image/png": "[encoded data removed]",
      "text/plain": [
       "<Figure size 1440x864 with 2 Axes>"
      ]
     },
     "metadata": {
      "needs_background": "light"
     },
     "output_type": "display_data"
    }
   ],
   "source": [
    "msno.heatmap(customer_data)"
   ]
  },
  {
   "cell_type": "markdown",
   "id": "fcc657d5-015f-45e2-a0d0-d30bd71188ac",
   "metadata": {},
   "source": [
    "### Stage 2 - Exploratory Data Analysis (EDA) \n",
    "\n",
    "Objective: Understand the characteristics of the dataset and identify patterns that may influence customer segmentation.  \n",
    "Steps: Conduct exploratory analysis to grasp the distribution of variables such as gender, marital status, age, education, profession, work experience, spending score, family size, and anonymized category (Var_1).\n",
    "    Visualize relationships and trends within the dataset to uncover potential insights that may inform customer segmentation.   "
   ]
  },
  {
   "cell_type": "code",
   "execution_count": null,
   "id": "cdfe1b04-6edd-4083-a2a9-41638179a6bc",
   "metadata": {},
   "outputs": [],
   "source": []
  },
  {
   "cell_type": "code",
   "execution_count": null,
   "id": "674bf6c9-b4ba-4cb4-ab4f-6a4d76e9f222",
   "metadata": {},
   "outputs": [],
   "source": []
  },
  {
   "cell_type": "code",
   "execution_count": null,
   "id": "b7a2dad9-c45e-458f-9882-ce7dde2db307",
   "metadata": {},
   "outputs": [],
   "source": []
  },
  {
   "cell_type": "code",
   "execution_count": 106,
   "id": "ea5a770e-a725-4bc9-9e40-74fd48f2e4e2",
   "metadata": {},
   "outputs": [],
   "source": [
    "eda_data = customer_data.dropna()\n",
    "eda_data = eda_data.drop(columns='ID')"
   ]
  },
  {
   "cell_type": "code",
   "execution_count": 109,
   "id": "551980a1-b3cb-4585-afeb-07848657e9b7",
   "metadata": {},
   "outputs": [
    {
     "data": {
      "text/html": [
       "<div>\n",
       "<style scoped>\n",
       "    .dataframe tbody tr th:only-of-type {\n",
       "        vertical-align: middle;\n",
       "    }\n",
       "\n",
       "    .dataframe tbody tr th {\n",
       "        vertical-align: top;\n",
       "    }\n",
       "\n",
       "    .dataframe thead th {\n",
       "        text-align: right;\n",
       "    }\n",
       "</style>\n",
       "<table border=\"1\" class=\"dataframe\">\n",
       "  <thead>\n",
       "    <tr style=\"text-align: right;\">\n",
       "      <th></th>\n",
       "      <th>Gender</th>\n",
       "      <th>Ever_Married</th>\n",
       "      <th>Age</th>\n",
       "      <th>Graduated</th>\n",
       "      <th>Profession</th>\n",
       "      <th>Work_Experience</th>\n",
       "      <th>Spending_Score</th>\n",
       "      <th>Family_Size</th>\n",
       "      <th>Var_1</th>\n",
       "      <th>Segmentation</th>\n",
       "    </tr>\n",
       "  </thead>\n",
       "  <tbody>\n",
       "    <tr>\n",
       "      <th>0</th>\n",
       "      <td>Male</td>\n",
       "      <td>No</td>\n",
       "      <td>22</td>\n",
       "      <td>No</td>\n",
       "      <td>Healthcare</td>\n",
       "      <td>1.0</td>\n",
       "      <td>Low</td>\n",
       "      <td>4.0</td>\n",
       "      <td>Cat_4</td>\n",
       "      <td>D</td>\n",
       "    </tr>\n",
       "    <tr>\n",
       "      <th>2</th>\n",
       "      <td>Female</td>\n",
       "      <td>Yes</td>\n",
       "      <td>67</td>\n",
       "      <td>Yes</td>\n",
       "      <td>Engineer</td>\n",
       "      <td>1.0</td>\n",
       "      <td>Low</td>\n",
       "      <td>1.0</td>\n",
       "      <td>Cat_6</td>\n",
       "      <td>B</td>\n",
       "    </tr>\n",
       "    <tr>\n",
       "      <th>3</th>\n",
       "      <td>Male</td>\n",
       "      <td>Yes</td>\n",
       "      <td>67</td>\n",
       "      <td>Yes</td>\n",
       "      <td>Lawyer</td>\n",
       "      <td>0.0</td>\n",
       "      <td>High</td>\n",
       "      <td>2.0</td>\n",
       "      <td>Cat_6</td>\n",
       "      <td>B</td>\n",
       "    </tr>\n",
       "    <tr>\n",
       "      <th>5</th>\n",
       "      <td>Male</td>\n",
       "      <td>Yes</td>\n",
       "      <td>56</td>\n",
       "      <td>No</td>\n",
       "      <td>Artist</td>\n",
       "      <td>0.0</td>\n",
       "      <td>Average</td>\n",
       "      <td>2.0</td>\n",
       "      <td>Cat_6</td>\n",
       "      <td>C</td>\n",
       "    </tr>\n",
       "    <tr>\n",
       "      <th>6</th>\n",
       "      <td>Male</td>\n",
       "      <td>No</td>\n",
       "      <td>32</td>\n",
       "      <td>Yes</td>\n",
       "      <td>Healthcare</td>\n",
       "      <td>1.0</td>\n",
       "      <td>Low</td>\n",
       "      <td>3.0</td>\n",
       "      <td>Cat_6</td>\n",
       "      <td>C</td>\n",
       "    </tr>\n",
       "  </tbody>\n",
       "</table>\n",
       "</div>"
      ],
      "text/plain": [
       "   Gender Ever_Married  Age Graduated  Profession  Work_Experience  \\\n",
       "0    Male           No   22        No  Healthcare              1.0   \n",
       "2  Female          Yes   67       Yes    Engineer              1.0   \n",
       "3    Male          Yes   67       Yes      Lawyer              0.0   \n",
       "5    Male          Yes   56        No      Artist              0.0   \n",
       "6    Male           No   32       Yes  Healthcare              1.0   \n",
       "\n",
       "  Spending_Score  Family_Size  Var_1 Segmentation  \n",
       "0            Low          4.0  Cat_4            D  \n",
       "2            Low          1.0  Cat_6            B  \n",
       "3           High          2.0  Cat_6            B  \n",
       "5        Average          2.0  Cat_6            C  \n",
       "6            Low          3.0  Cat_6            C  "
      ]
     },
     "execution_count": 109,
     "metadata": {},
     "output_type": "execute_result"
    }
   ],
   "source": [
    "eda_data.head()"
   ]
  },
  {
   "cell_type": "code",
   "execution_count": 110,
   "id": "4d42eb5d-3bef-484d-b315-acbfeef40ce1",
   "metadata": {},
   "outputs": [
    {
     "data": {
      "text/html": [
       "<div>\n",
       "<style scoped>\n",
       "    .dataframe tbody tr th:only-of-type {\n",
       "        vertical-align: middle;\n",
       "    }\n",
       "\n",
       "    .dataframe tbody tr th {\n",
       "        vertical-align: top;\n",
       "    }\n",
       "\n",
       "    .dataframe thead th {\n",
       "        text-align: right;\n",
       "    }\n",
       "</style>\n",
       "<table border=\"1\" class=\"dataframe\">\n",
       "  <thead>\n",
       "    <tr style=\"text-align: right;\">\n",
       "      <th></th>\n",
       "      <th>Age</th>\n",
       "      <th>Work_Experience</th>\n",
       "      <th>Family_Size</th>\n",
       "    </tr>\n",
       "  </thead>\n",
       "  <tbody>\n",
       "    <tr>\n",
       "      <th>Age</th>\n",
       "      <td>1.000000</td>\n",
       "      <td>-0.188769</td>\n",
       "      <td>-0.281772</td>\n",
       "    </tr>\n",
       "    <tr>\n",
       "      <th>Work_Experience</th>\n",
       "      <td>-0.188769</td>\n",
       "      <td>1.000000</td>\n",
       "      <td>-0.069123</td>\n",
       "    </tr>\n",
       "    <tr>\n",
       "      <th>Family_Size</th>\n",
       "      <td>-0.281772</td>\n",
       "      <td>-0.069123</td>\n",
       "      <td>1.000000</td>\n",
       "    </tr>\n",
       "  </tbody>\n",
       "</table>\n",
       "</div>"
      ],
      "text/plain": [
       "                      Age  Work_Experience  Family_Size\n",
       "Age              1.000000        -0.188769    -0.281772\n",
       "Work_Experience -0.188769         1.000000    -0.069123\n",
       "Family_Size     -0.281772        -0.069123     1.000000"
      ]
     },
     "execution_count": 110,
     "metadata": {},
     "output_type": "execute_result"
    }
   ],
   "source": [
    "eda_data.corr()"
   ]
  },
  {
   "cell_type": "code",
   "execution_count": 111,
   "id": "6cf8d740-18dd-465a-aaaf-3ba9d400b1a9",
   "metadata": {},
   "outputs": [
    {
     "data": {
      "application/vnd.plotly.v1+json": {
       "config": {
        "plotlyServerURL": "https://plot.ly"
       },
       "data": [
        {
         "type": "heatmap",
         "x": [
          "Gender",
          "Ever_Married",
          "Age",
          "Graduated",
          "Profession",
          "Work_Experience",
          "Spending_Score",
          "Family_Size",
          "Var_1",
          "Segmentation"
         ],
         "y": [
          "Gender",
          "Ever_Married",
          "Age",
          "Graduated",
          "Profession",
          "Work_Experience",
          "Spending_Score",
          "Family_Size",
          "Var_1",
          "Segmentation"
         ],
         "z": [
          [
           1,
           -0.18876908692602865,
           -0.2817722706241413
          ],
          [
           -0.18876908692602865,
           1,
           -0.06912341072209295
          ],
          [
           -0.2817722706241413,
           -0.06912341072209295,
           1
          ]
         ]
        }
       ],
       "layout": {
        "autosize": true,
        "template": {
         "data": {
          "bar": [
           {
            "error_x": {
             "color": "#2a3f5f"
            },
            "error_y": {
             "color": "#2a3f5f"
            },
            "marker": {
             "line": {
              "color": "#E5ECF6",
              "width": 0.5
             }
            },
            "type": "bar"
           }
          ],
          "barpolar": [
           {
            "marker": {
             "line": {
              "color": "#E5ECF6",
              "width": 0.5
             }
            },
            "type": "barpolar"
           }
          ],
          "carpet": [
           {
            "aaxis": {
             "endlinecolor": "#2a3f5f",
             "gridcolor": "white",
             "linecolor": "white",
             "minorgridcolor": "white",
             "startlinecolor": "#2a3f5f"
            },
            "baxis": {
             "endlinecolor": "#2a3f5f",
             "gridcolor": "white",
             "linecolor": "white",
             "minorgridcolor": "white",
             "startlinecolor": "#2a3f5f"
            },
            "type": "carpet"
           }
          ],
          "choropleth": [
           {
            "colorbar": {
             "outlinewidth": 0,
             "ticks": ""
            },
            "type": "choropleth"
           }
          ],
          "contour": [
           {
            "colorbar": {
             "outlinewidth": 0,
             "ticks": ""
            },
            "colorscale": [
             [
              0,
              "#0d0887"
             ],
             [
              0.1111111111111111,
              "#46039f"
             ],
             [
              0.2222222222222222,
              "#7201a8"
             ],
             [
              0.3333333333333333,
              "#9c179e"
             ],
             [
              0.4444444444444444,
              "#bd3786"
             ],
             [
              0.5555555555555556,
              "#d8576b"
             ],
             [
              0.6666666666666666,
              "#ed7953"
             ],
             [
              0.7777777777777778,
              "#fb9f3a"
             ],
             [
              0.8888888888888888,
              "#fdca26"
             ],
             [
              1,
              "#f0f921"
             ]
            ],
            "type": "contour"
           }
          ],
          "contourcarpet": [
           {
            "colorbar": {
             "outlinewidth": 0,
             "ticks": ""
            },
            "type": "contourcarpet"
           }
          ],
          "heatmap": [
           {
            "colorbar": {
             "outlinewidth": 0,
             "ticks": ""
            },
            "colorscale": [
             [
              0,
              "#0d0887"
             ],
             [
              0.1111111111111111,
              "#46039f"
             ],
             [
              0.2222222222222222,
              "#7201a8"
             ],
             [
              0.3333333333333333,
              "#9c179e"
             ],
             [
              0.4444444444444444,
              "#bd3786"
             ],
             [
              0.5555555555555556,
              "#d8576b"
             ],
             [
              0.6666666666666666,
              "#ed7953"
             ],
             [
              0.7777777777777778,
              "#fb9f3a"
             ],
             [
              0.8888888888888888,
              "#fdca26"
             ],
             [
              1,
              "#f0f921"
             ]
            ],
            "type": "heatmap"
           }
          ],
          "heatmapgl": [
           {
            "colorbar": {
             "outlinewidth": 0,
             "ticks": ""
            },
            "colorscale": [
             [
              0,
              "#0d0887"
             ],
             [
              0.1111111111111111,
              "#46039f"
             ],
             [
              0.2222222222222222,
              "#7201a8"
             ],
             [
              0.3333333333333333,
              "#9c179e"
             ],
             [
              0.4444444444444444,
              "#bd3786"
             ],
             [
              0.5555555555555556,
              "#d8576b"
             ],
             [
              0.6666666666666666,
              "#ed7953"
             ],
             [
              0.7777777777777778,
              "#fb9f3a"
             ],
             [
              0.8888888888888888,
              "#fdca26"
             ],
             [
              1,
              "#f0f921"
             ]
            ],
            "type": "heatmapgl"
           }
          ],
          "histogram": [
           {
            "marker": {
             "colorbar": {
              "outlinewidth": 0,
              "ticks": ""
             }
            },
            "type": "histogram"
           }
          ],
          "histogram2d": [
           {
            "colorbar": {
             "outlinewidth": 0,
             "ticks": ""
            },
            "colorscale": [
             [
              0,
              "#0d0887"
             ],
             [
              0.1111111111111111,
              "#46039f"
             ],
             [
              0.2222222222222222,
              "#7201a8"
             ],
             [
              0.3333333333333333,
              "#9c179e"
             ],
             [
              0.4444444444444444,
              "#bd3786"
             ],
             [
              0.5555555555555556,
              "#d8576b"
             ],
             [
              0.6666666666666666,
              "#ed7953"
             ],
             [
              0.7777777777777778,
              "#fb9f3a"
             ],
             [
              0.8888888888888888,
              "#fdca26"
             ],
             [
              1,
              "#f0f921"
             ]
            ],
            "type": "histogram2d"
           }
          ],
          "histogram2dcontour": [
           {
            "colorbar": {
             "outlinewidth": 0,
             "ticks": ""
            },
            "colorscale": [
             [
              0,
              "#0d0887"
             ],
             [
              0.1111111111111111,
              "#46039f"
             ],
             [
              0.2222222222222222,
              "#7201a8"
             ],
             [
              0.3333333333333333,
              "#9c179e"
             ],
             [
              0.4444444444444444,
              "#bd3786"
             ],
             [
              0.5555555555555556,
              "#d8576b"
             ],
             [
              0.6666666666666666,
              "#ed7953"
             ],
             [
              0.7777777777777778,
              "#fb9f3a"
             ],
             [
              0.8888888888888888,
              "#fdca26"
             ],
             [
              1,
              "#f0f921"
             ]
            ],
            "type": "histogram2dcontour"
           }
          ],
          "mesh3d": [
           {
            "colorbar": {
             "outlinewidth": 0,
             "ticks": ""
            },
            "type": "mesh3d"
           }
          ],
          "parcoords": [
           {
            "line": {
             "colorbar": {
              "outlinewidth": 0,
              "ticks": ""
             }
            },
            "type": "parcoords"
           }
          ],
          "pie": [
           {
            "automargin": true,
            "type": "pie"
           }
          ],
          "scatter": [
           {
            "marker": {
             "colorbar": {
              "outlinewidth": 0,
              "ticks": ""
             }
            },
            "type": "scatter"
           }
          ],
          "scatter3d": [
           {
            "line": {
             "colorbar": {
              "outlinewidth": 0,
              "ticks": ""
             }
            },
            "marker": {
             "colorbar": {
              "outlinewidth": 0,
              "ticks": ""
             }
            },
            "type": "scatter3d"
           }
          ],
          "scattercarpet": [
           {
            "marker": {
             "colorbar": {
              "outlinewidth": 0,
              "ticks": ""
             }
            },
            "type": "scattercarpet"
           }
          ],
          "scattergeo": [
           {
            "marker": {
             "colorbar": {
              "outlinewidth": 0,
              "ticks": ""
             }
            },
            "type": "scattergeo"
           }
          ],
          "scattergl": [
           {
            "marker": {
             "colorbar": {
              "outlinewidth": 0,
              "ticks": ""
             }
            },
            "type": "scattergl"
           }
          ],
          "scattermapbox": [
           {
            "marker": {
             "colorbar": {
              "outlinewidth": 0,
              "ticks": ""
             }
            },
            "type": "scattermapbox"
           }
          ],
          "scatterpolar": [
           {
            "marker": {
             "colorbar": {
              "outlinewidth": 0,
              "ticks": ""
             }
            },
            "type": "scatterpolar"
           }
          ],
          "scatterpolargl": [
           {
            "marker": {
             "colorbar": {
              "outlinewidth": 0,
              "ticks": ""
             }
            },
            "type": "scatterpolargl"
           }
          ],
          "scatterternary": [
           {
            "marker": {
             "colorbar": {
              "outlinewidth": 0,
              "ticks": ""
             }
            },
            "type": "scatterternary"
           }
          ],
          "surface": [
           {
            "colorbar": {
             "outlinewidth": 0,
             "ticks": ""
            },
            "colorscale": [
             [
              0,
              "#0d0887"
             ],
             [
              0.1111111111111111,
              "#46039f"
             ],
             [
              0.2222222222222222,
              "#7201a8"
             ],
             [
              0.3333333333333333,
              "#9c179e"
             ],
             [
              0.4444444444444444,
              "#bd3786"
             ],
             [
              0.5555555555555556,
              "#d8576b"
             ],
             [
              0.6666666666666666,
              "#ed7953"
             ],
             [
              0.7777777777777778,
              "#fb9f3a"
             ],
             [
              0.8888888888888888,
              "#fdca26"
             ],
             [
              1,
              "#f0f921"
             ]
            ],
            "type": "surface"
           }
          ],
          "table": [
           {
            "cells": {
             "fill": {
              "color": "#EBF0F8"
             },
             "line": {
              "color": "white"
             }
            },
            "header": {
             "fill": {
              "color": "#C8D4E3"
             },
             "line": {
              "color": "white"
             }
            },
            "type": "table"
           }
          ]
         },
         "layout": {
          "annotationdefaults": {
           "arrowcolor": "#2a3f5f",
           "arrowhead": 0,
           "arrowwidth": 1
          },
          "autotypenumbers": "strict",
          "coloraxis": {
           "colorbar": {
            "outlinewidth": 0,
            "ticks": ""
           }
          },
          "colorscale": {
           "diverging": [
            [
             0,
             "#8e0152"
            ],
            [
             0.1,
             "#c51b7d"
            ],
            [
             0.2,
             "#de77ae"
            ],
            [
             0.3,
             "#f1b6da"
            ],
            [
             0.4,
             "#fde0ef"
            ],
            [
             0.5,
             "#f7f7f7"
            ],
            [
             0.6,
             "#e6f5d0"
            ],
            [
             0.7,
             "#b8e186"
            ],
            [
             0.8,
             "#7fbc41"
            ],
            [
             0.9,
             "#4d9221"
            ],
            [
             1,
             "#276419"
            ]
           ],
           "sequential": [
            [
             0,
             "#0d0887"
            ],
            [
             0.1111111111111111,
             "#46039f"
            ],
            [
             0.2222222222222222,
             "#7201a8"
            ],
            [
             0.3333333333333333,
             "#9c179e"
            ],
            [
             0.4444444444444444,
             "#bd3786"
            ],
            [
             0.5555555555555556,
             "#d8576b"
            ],
            [
             0.6666666666666666,
             "#ed7953"
            ],
            [
             0.7777777777777778,
             "#fb9f3a"
            ],
            [
             0.8888888888888888,
             "#fdca26"
            ],
            [
             1,
             "#f0f921"
            ]
           ],
           "sequentialminus": [
            [
             0,
             "#0d0887"
            ],
            [
             0.1111111111111111,
             "#46039f"
            ],
            [
             0.2222222222222222,
             "#7201a8"
            ],
            [
             0.3333333333333333,
             "#9c179e"
            ],
            [
             0.4444444444444444,
             "#bd3786"
            ],
            [
             0.5555555555555556,
             "#d8576b"
            ],
            [
             0.6666666666666666,
             "#ed7953"
            ],
            [
             0.7777777777777778,
             "#fb9f3a"
            ],
            [
             0.8888888888888888,
             "#fdca26"
            ],
            [
             1,
             "#f0f921"
            ]
           ]
          },
          "colorway": [
           "#636efa",
           "#EF553B",
           "#00cc96",
           "#ab63fa",
           "#FFA15A",
           "#19d3f3",
           "#FF6692",
           "#B6E880",
           "#FF97FF",
           "#FECB52"
          ],
          "font": {
           "color": "#2a3f5f"
          },
          "geo": {
           "bgcolor": "white",
           "lakecolor": "white",
           "landcolor": "#E5ECF6",
           "showlakes": true,
           "showland": true,
           "subunitcolor": "white"
          },
          "hoverlabel": {
           "align": "left"
          },
          "hovermode": "closest",
          "mapbox": {
           "style": "light"
          },
          "paper_bgcolor": "white",
          "plot_bgcolor": "#E5ECF6",
          "polar": {
           "angularaxis": {
            "gridcolor": "white",
            "linecolor": "white",
            "ticks": ""
           },
           "bgcolor": "#E5ECF6",
           "radialaxis": {
            "gridcolor": "white",
            "linecolor": "white",
            "ticks": ""
           }
          },
          "scene": {
           "xaxis": {
            "backgroundcolor": "#E5ECF6",
            "gridcolor": "white",
            "gridwidth": 2,
            "linecolor": "white",
            "showbackground": true,
            "ticks": "",
            "zerolinecolor": "white"
           },
           "yaxis": {
            "backgroundcolor": "#E5ECF6",
            "gridcolor": "white",
            "gridwidth": 2,
            "linecolor": "white",
            "showbackground": true,
            "ticks": "",
            "zerolinecolor": "white"
           },
           "zaxis": {
            "backgroundcolor": "#E5ECF6",
            "gridcolor": "white",
            "gridwidth": 2,
            "linecolor": "white",
            "showbackground": true,
            "ticks": "",
            "zerolinecolor": "white"
           }
          },
          "shapedefaults": {
           "line": {
            "color": "#2a3f5f"
           }
          },
          "ternary": {
           "aaxis": {
            "gridcolor": "white",
            "linecolor": "white",
            "ticks": ""
           },
           "baxis": {
            "gridcolor": "white",
            "linecolor": "white",
            "ticks": ""
           },
           "bgcolor": "#E5ECF6",
           "caxis": {
            "gridcolor": "white",
            "linecolor": "white",
            "ticks": ""
           }
          },
          "title": {
           "x": 0.05
          },
          "xaxis": {
           "automargin": true,
           "gridcolor": "white",
           "linecolor": "white",
           "ticks": "",
           "title": {
            "standoff": 15
           },
           "zerolinecolor": "white",
           "zerolinewidth": 2
          },
          "yaxis": {
           "automargin": true,
           "gridcolor": "white",
           "linecolor": "white",
           "ticks": "",
           "title": {
            "standoff": 15
           },
           "zerolinecolor": "white",
           "zerolinewidth": 2
          }
         }
        },
        "xaxis": {
         "autorange": true,
         "range": [
          -0.5,
          9.5
         ],
         "type": "category"
        },
        "yaxis": {
         "autorange": true,
         "range": [
          -0.5,
          9.5
         ],
         "type": "category"
        }
       }
      },
      "image/png": "[encoded data removed]",
      "text/html": [
       "<div>                            <div id=\"3a70283e-4dca-4a65-992d-7bba58fbc833\" class=\"plotly-graph-div\" style=\"height:525px; width:100%;\"></div>            <script type=\"text/javascript\">                require([\"plotly\"], function(Plotly) {                    window.PLOTLYENV=window.PLOTLYENV || {};                                    if (document.getElementById(\"3a70283e-4dca-4a65-992d-7bba58fbc833\")) {                    Plotly.newPlot(                        \"3a70283e-4dca-4a65-992d-7bba58fbc833\",                        [{\"type\": \"heatmap\", \"x\": [\"Gender\", \"Ever_Married\", \"Age\", \"Graduated\", \"Profession\", \"Work_Experience\", \"Spending_Score\", \"Family_Size\", \"Var_1\", \"Segmentation\"], \"y\": [\"Gender\", \"Ever_Married\", \"Age\", \"Graduated\", \"Profession\", \"Work_Experience\", \"Spending_Score\", \"Family_Size\", \"Var_1\", \"Segmentation\"], \"z\": [[1.0, -0.18876908692602865, -0.2817722706241413], [-0.18876908692602865, 1.0, -0.06912341072209295], [-0.2817722706241413, -0.06912341072209295, 1.0]]}],                        {\"template\": {\"data\": {\"bar\": [{\"error_x\": {\"color\": \"#2a3f5f\"}, \"error_y\": {\"color\": \"#2a3f5f\"}, \"marker\": {\"line\": {\"color\": \"#E5ECF6\", \"width\": 0.5}}, \"type\": \"bar\"}], \"barpolar\": [{\"marker\": {\"line\": {\"color\": \"#E5ECF6\", \"width\": 0.5}}, \"type\": \"barpolar\"}], \"carpet\": [{\"aaxis\": {\"endlinecolor\": \"#2a3f5f\", \"gridcolor\": \"white\", \"linecolor\": \"white\", \"minorgridcolor\": \"white\", \"startlinecolor\": \"#2a3f5f\"}, \"baxis\": {\"endlinecolor\": \"#2a3f5f\", \"gridcolor\": \"white\", \"linecolor\": \"white\", \"minorgridcolor\": \"white\", \"startlinecolor\": \"#2a3f5f\"}, \"type\": \"carpet\"}], \"choropleth\": [{\"colorbar\": {\"outlinewidth\": 0, \"ticks\": \"\"}, \"type\": \"choropleth\"}], \"contour\": [{\"colorbar\": {\"outlinewidth\": 0, \"ticks\": \"\"}, \"colorscale\": [[0.0, \"#0d0887\"], [0.1111111111111111, \"#46039f\"], [0.2222222222222222, \"#7201a8\"], [0.3333333333333333, \"#9c179e\"], [0.4444444444444444, \"#bd3786\"], [0.5555555555555556, \"#d8576b\"], [0.6666666666666666, \"#ed7953\"], [0.7777777777777778, \"#fb9f3a\"], [0.8888888888888888, \"#fdca26\"], [1.0, \"#f0f921\"]], \"type\": \"contour\"}], \"contourcarpet\": [{\"colorbar\": {\"outlinewidth\": 0, \"ticks\": \"\"}, \"type\": \"contourcarpet\"}], \"heatmap\": [{\"colorbar\": {\"outlinewidth\": 0, \"ticks\": \"\"}, \"colorscale\": [[0.0, \"#0d0887\"], [0.1111111111111111, \"#46039f\"], [0.2222222222222222, \"#7201a8\"], [0.3333333333333333, \"#9c179e\"], [0.4444444444444444, \"#bd3786\"], [0.5555555555555556, \"#d8576b\"], [0.6666666666666666, \"#ed7953\"], [0.7777777777777778, \"#fb9f3a\"], [0.8888888888888888, \"#fdca26\"], [1.0, \"#f0f921\"]], \"type\": \"heatmap\"}], \"heatmapgl\": [{\"colorbar\": {\"outlinewidth\": 0, \"ticks\": \"\"}, \"colorscale\": [[0.0, \"#0d0887\"], [0.1111111111111111, \"#46039f\"], [0.2222222222222222, \"#7201a8\"], [0.3333333333333333, \"#9c179e\"], [0.4444444444444444, \"#bd3786\"], [0.5555555555555556, \"#d8576b\"], [0.6666666666666666, \"#ed7953\"], [0.7777777777777778, \"#fb9f3a\"], [0.8888888888888888, \"#fdca26\"], [1.0, \"#f0f921\"]], \"type\": \"heatmapgl\"}], \"histogram\": [{\"marker\": {\"colorbar\": {\"outlinewidth\": 0, \"ticks\": \"\"}}, \"type\": \"histogram\"}], \"histogram2d\": [{\"colorbar\": {\"outlinewidth\": 0, \"ticks\": \"\"}, \"colorscale\": [[0.0, \"#0d0887\"], [0.1111111111111111, \"#46039f\"], [0.2222222222222222, \"#7201a8\"], [0.3333333333333333, \"#9c179e\"], [0.4444444444444444, \"#bd3786\"], [0.5555555555555556, \"#d8576b\"], [0.6666666666666666, \"#ed7953\"], [0.7777777777777778, \"#fb9f3a\"], [0.8888888888888888, \"#fdca26\"], [1.0, \"#f0f921\"]], \"type\": \"histogram2d\"}], \"histogram2dcontour\": [{\"colorbar\": {\"outlinewidth\": 0, \"ticks\": \"\"}, \"colorscale\": [[0.0, \"#0d0887\"], [0.1111111111111111, \"#46039f\"], [0.2222222222222222, \"#7201a8\"], [0.3333333333333333, \"#9c179e\"], [0.4444444444444444, \"#bd3786\"], [0.5555555555555556, \"#d8576b\"], [0.6666666666666666, \"#ed7953\"], [0.7777777777777778, \"#fb9f3a\"], [0.8888888888888888, \"#fdca26\"], [1.0, \"#f0f921\"]], \"type\": \"histogram2dcontour\"}], \"mesh3d\": [{\"colorbar\": {\"outlinewidth\": 0, \"ticks\": \"\"}, \"type\": \"mesh3d\"}], \"parcoords\": [{\"line\": {\"colorbar\": {\"outlinewidth\": 0, \"ticks\": \"\"}}, \"type\": \"parcoords\"}], \"pie\": [{\"automargin\": true, \"type\": \"pie\"}], \"scatter\": [{\"marker\": {\"colorbar\": {\"outlinewidth\": 0, \"ticks\": \"\"}}, \"type\": \"scatter\"}], \"scatter3d\": [{\"line\": {\"colorbar\": {\"outlinewidth\": 0, \"ticks\": \"\"}}, \"marker\": {\"colorbar\": {\"outlinewidth\": 0, \"ticks\": \"\"}}, \"type\": \"scatter3d\"}], \"scattercarpet\": [{\"marker\": {\"colorbar\": {\"outlinewidth\": 0, \"ticks\": \"\"}}, \"type\": \"scattercarpet\"}], \"scattergeo\": [{\"marker\": {\"colorbar\": {\"outlinewidth\": 0, \"ticks\": \"\"}}, \"type\": \"scattergeo\"}], \"scattergl\": [{\"marker\": {\"colorbar\": {\"outlinewidth\": 0, \"ticks\": \"\"}}, \"type\": \"scattergl\"}], \"scattermapbox\": [{\"marker\": {\"colorbar\": {\"outlinewidth\": 0, \"ticks\": \"\"}}, \"type\": \"scattermapbox\"}], \"scatterpolar\": [{\"marker\": {\"colorbar\": {\"outlinewidth\": 0, \"ticks\": \"\"}}, \"type\": \"scatterpolar\"}], \"scatterpolargl\": [{\"marker\": {\"colorbar\": {\"outlinewidth\": 0, \"ticks\": \"\"}}, \"type\": \"scatterpolargl\"}], \"scatterternary\": [{\"marker\": {\"colorbar\": {\"outlinewidth\": 0, \"ticks\": \"\"}}, \"type\": \"scatterternary\"}], \"surface\": [{\"colorbar\": {\"outlinewidth\": 0, \"ticks\": \"\"}, \"colorscale\": [[0.0, \"#0d0887\"], [0.1111111111111111, \"#46039f\"], [0.2222222222222222, \"#7201a8\"], [0.3333333333333333, \"#9c179e\"], [0.4444444444444444, \"#bd3786\"], [0.5555555555555556, \"#d8576b\"], [0.6666666666666666, \"#ed7953\"], [0.7777777777777778, \"#fb9f3a\"], [0.8888888888888888, \"#fdca26\"], [1.0, \"#f0f921\"]], \"type\": \"surface\"}], \"table\": [{\"cells\": {\"fill\": {\"color\": \"#EBF0F8\"}, \"line\": {\"color\": \"white\"}}, \"header\": {\"fill\": {\"color\": \"#C8D4E3\"}, \"line\": {\"color\": \"white\"}}, \"type\": \"table\"}]}, \"layout\": {\"annotationdefaults\": {\"arrowcolor\": \"#2a3f5f\", \"arrowhead\": 0, \"arrowwidth\": 1}, \"autotypenumbers\": \"strict\", \"coloraxis\": {\"colorbar\": {\"outlinewidth\": 0, \"ticks\": \"\"}}, \"colorscale\": {\"diverging\": [[0, \"#8e0152\"], [0.1, \"#c51b7d\"], [0.2, \"#de77ae\"], [0.3, \"#f1b6da\"], [0.4, \"#fde0ef\"], [0.5, \"#f7f7f7\"], [0.6, \"#e6f5d0\"], [0.7, \"#b8e186\"], [0.8, \"#7fbc41\"], [0.9, \"#4d9221\"], [1, \"#276419\"]], \"sequential\": [[0.0, \"#0d0887\"], [0.1111111111111111, \"#46039f\"], [0.2222222222222222, \"#7201a8\"], [0.3333333333333333, \"#9c179e\"], [0.4444444444444444, \"#bd3786\"], [0.5555555555555556, \"#d8576b\"], [0.6666666666666666, \"#ed7953\"], [0.7777777777777778, \"#fb9f3a\"], [0.8888888888888888, \"#fdca26\"], [1.0, \"#f0f921\"]], \"sequentialminus\": [[0.0, \"#0d0887\"], [0.1111111111111111, \"#46039f\"], [0.2222222222222222, \"#7201a8\"], [0.3333333333333333, \"#9c179e\"], [0.4444444444444444, \"#bd3786\"], [0.5555555555555556, \"#d8576b\"], [0.6666666666666666, \"#ed7953\"], [0.7777777777777778, \"#fb9f3a\"], [0.8888888888888888, \"#fdca26\"], [1.0, \"#f0f921\"]]}, \"colorway\": [\"#636efa\", \"#EF553B\", \"#00cc96\", \"#ab63fa\", \"#FFA15A\", \"#19d3f3\", \"#FF6692\", \"#B6E880\", \"#FF97FF\", \"#FECB52\"], \"font\": {\"color\": \"#2a3f5f\"}, \"geo\": {\"bgcolor\": \"white\", \"lakecolor\": \"white\", \"landcolor\": \"#E5ECF6\", \"showlakes\": true, \"showland\": true, \"subunitcolor\": \"white\"}, \"hoverlabel\": {\"align\": \"left\"}, \"hovermode\": \"closest\", \"mapbox\": {\"style\": \"light\"}, \"paper_bgcolor\": \"white\", \"plot_bgcolor\": \"#E5ECF6\", \"polar\": {\"angularaxis\": {\"gridcolor\": \"white\", \"linecolor\": \"white\", \"ticks\": \"\"}, \"bgcolor\": \"#E5ECF6\", \"radialaxis\": {\"gridcolor\": \"white\", \"linecolor\": \"white\", \"ticks\": \"\"}}, \"scene\": {\"xaxis\": {\"backgroundcolor\": \"#E5ECF6\", \"gridcolor\": \"white\", \"gridwidth\": 2, \"linecolor\": \"white\", \"showbackground\": true, \"ticks\": \"\", \"zerolinecolor\": \"white\"}, \"yaxis\": {\"backgroundcolor\": \"#E5ECF6\", \"gridcolor\": \"white\", \"gridwidth\": 2, \"linecolor\": \"white\", \"showbackground\": true, \"ticks\": \"\", \"zerolinecolor\": \"white\"}, \"zaxis\": {\"backgroundcolor\": \"#E5ECF6\", \"gridcolor\": \"white\", \"gridwidth\": 2, \"linecolor\": \"white\", \"showbackground\": true, \"ticks\": \"\", \"zerolinecolor\": \"white\"}}, \"shapedefaults\": {\"line\": {\"color\": \"#2a3f5f\"}}, \"ternary\": {\"aaxis\": {\"gridcolor\": \"white\", \"linecolor\": \"white\", \"ticks\": \"\"}, \"baxis\": {\"gridcolor\": \"white\", \"linecolor\": \"white\", \"ticks\": \"\"}, \"bgcolor\": \"#E5ECF6\", \"caxis\": {\"gridcolor\": \"white\", \"linecolor\": \"white\", \"ticks\": \"\"}}, \"title\": {\"x\": 0.05}, \"xaxis\": {\"automargin\": true, \"gridcolor\": \"white\", \"linecolor\": \"white\", \"ticks\": \"\", \"title\": {\"standoff\": 15}, \"zerolinecolor\": \"white\", \"zerolinewidth\": 2}, \"yaxis\": {\"automargin\": true, \"gridcolor\": \"white\", \"linecolor\": \"white\", \"ticks\": \"\", \"title\": {\"standoff\": 15}, \"zerolinecolor\": \"white\", \"zerolinewidth\": 2}}}},                        {\"responsive\": true}                    ).then(function(){\n",
       "                            \n",
       "var gd = document.getElementById('3a70283e-4dca-4a65-992d-7bba58fbc833');\n",
       "var x = new MutationObserver(function (mutations, observer) {{\n",
       "        var display = window.getComputedStyle(gd).display;\n",
       "        if (!display || display === 'none') {{\n",
       "            console.log([gd, 'removed!']);\n",
       "            Plotly.purge(gd);\n",
       "            observer.disconnect();\n",
       "        }}\n",
       "}});\n",
       "\n",
       "// Listen for the removal of the full notebook cells\n",
       "var notebookContainer = gd.closest('#notebook-container');\n",
       "if (notebookContainer) {{\n",
       "    x.observe(notebookContainer, {childList: true});\n",
       "}}\n",
       "\n",
       "// Listen for the clearing of the current output cell\n",
       "var outputEl = gd.closest('.output');\n",
       "if (outputEl) {{\n",
       "    x.observe(outputEl, {childList: true});\n",
       "}}\n",
       "\n",
       "                        })                };                });            </script>        </div>"
      ]
     },
     "metadata": {},
     "output_type": "display_data"
    }
   ],
   "source": [
    "fig = go.Figure(data=go.Heatmap(\n",
    "                    z=eda_data.corr(),\n",
    "                    x=eda_data.columns,\n",
    "                    y=eda_data.columns))\n",
    "fig.show()"
   ]
  },
  {
   "cell_type": "code",
   "execution_count": null,
   "id": "a7728de2-cdab-4ac2-b2c4-392397dce459",
   "metadata": {},
   "outputs": [],
   "source": [
    "import seaborn as sns\n",
    "\n",
    "# sns.set_theme(style=\"white\")\n",
    "\n",
    "mask = np.triu(np.ones_like(r, dtype=bool))\n",
    "\n",
    "# Set up the matplotlib figure\n",
    "f, ax = plt.subplots(figsize=(11, 9))\n",
    "\n",
    "# Generate a custom diverging colormap\n",
    "cmap = sns.diverging_palette(230, 20, n=256, as_cmap=True)\n",
    "\n",
    "# Draw the heatmap with the mask and correct aspect ratio\n",
    "sns.heatmap(r, \n",
    "            mask=mask, \n",
    "            cmap=cmap, \n",
    "            vmax=1, \n",
    "            vmin = -.25,\n",
    "            center=0,\n",
    "            square=True, \n",
    "            linewidths=.5,\n",
    "            annot = True,\n",
    "            fmt='.2f', \n",
    "            annot_kws={'size': 10},\n",
    "            cbar_kws={\"shrink\": .75})\n",
    "\n",
    "plt.title('Asset Correlation Matrix')\n",
    "plt.tight_layout()\n",
    "ax.tick_params(axis = 'x', labelsize = 8)\n",
    "ax.set_ylim(len(corr)+1, -1)\n",
    "# plt.savefig('corrTax.png', dpi = 600)\n",
    "\n",
    "plt.show()"
   ]
  },
  {
   "cell_type": "code",
   "execution_count": null,
   "id": "ee1600f3-3345-405a-9bda-605736732226",
   "metadata": {},
   "outputs": [],
   "source": [
    "debkumarde\n",
    "Mar '21\n",
    "\n",
    "I have created a lower triangular correlation heatmap using Seaborn that I loved. Now trying to create the same using Plotly. Unfortunately, not being able to fine tune it like I did with Seaborn.\n",
    "\n",
    "names = ['U', 'V', 'W', 'X', 'Y', 'Z']\n",
    "r = pd.DataFrame(index = names, columns = names)\n",
    "r['U'] = np.array([1.0,   0.53,    0.26,  0.63, 0.52, 0.65] )\n",
    "r['V'] = np.array([0.53,   1.0,   -0.17, 0.83, 1, 0.85])\n",
    "r['W'] = np.array([0.26,  -0.17,    1.0,  0.04, -0.15, 0.09])\n",
    "r['X'] = np.array([0.63, 0.83, 0.04, 1, 0.83, 0.80])\n",
    "r['Y'] = np.array([0.52, 1, -0.15, 0.83, 1, 0.86])\n",
    "r['Z'] = np.array([0.65, 0.85, 0.09, 0.80, 0.86, 1.0])\n",
    "\n",
    "image\n",
    "\n",
    "import seaborn as sns\n",
    "\n",
    "# sns.set_theme(style=\"white\")\n",
    "\n",
    "mask = np.triu(np.ones_like(r, dtype=bool))\n",
    "\n",
    "# Set up the matplotlib figure\n",
    "f, ax = plt.subplots(figsize=(11, 9))\n",
    "\n",
    "# Generate a custom diverging colormap\n",
    "cmap = sns.diverging_palette(230, 20, n=256, as_cmap=True)\n",
    "\n",
    "# Draw the heatmap with the mask and correct aspect ratio\n",
    "sns.heatmap(r, \n",
    "            mask=mask, \n",
    "            cmap=cmap, \n",
    "            vmax=1, \n",
    "            vmin = -.25,\n",
    "            center=0,\n",
    "            square=True, \n",
    "            linewidths=.5,\n",
    "            annot = True,\n",
    "            fmt='.2f', \n",
    "            annot_kws={'size': 10},\n",
    "            cbar_kws={\"shrink\": .75})\n",
    "\n",
    "plt.title('Asset Correlation Matrix')\n",
    "plt.tight_layout()\n",
    "ax.tick_params(axis = 'x', labelsize = 8)\n",
    "ax.set_ylim(len(corr)+1, -1)\n",
    "# plt.savefig('corrTax.png', dpi = 600)\n",
    "\n",
    "plt.show()\n",
    "\n",
    "\n",
    "image\n",
    "image611×678 14.8 KB\n",
    "\n",
    "I am trying to create this using Plotly. Here is what I have able to do so far.\n",
    "\n",
    "mask = np.triu(np.ones_like(r, dtype=bool))\n",
    "rLT = r.mask(mask)\n",
    "\n",
    "heat = go.Heatmap(\n",
    "    z = rLT,\n",
    "    x = rLT.columns.values,\n",
    "    y = rLT.columns.values,\n",
    "    zmin = - 0.25, # Sets the lower bound of the color domain\n",
    "    zmax = 1,\n",
    "    xgap = 1, # Sets the horizontal gap (in pixels) between bricks\n",
    "    ygap = 1,\n",
    "    colorscale = 'RdBu'\n",
    ")\n",
    "\n",
    "title = 'Asset Correlation Matrix'\n",
    "\n",
    "layout = go.Layout(\n",
    "    title_text=title, \n",
    "    title_x=0.5, \n",
    "    width=600, \n",
    "    height=600,\n",
    "    xaxis_showgrid=False,\n",
    "    yaxis_showgrid=False,\n",
    "    yaxis_autorange='reversed'\n",
    ")\n",
    "\n",
    "fig=go.Figure(data=[heat], layout=layout)\n",
    "fig.show()\n",
    "\n",
    "image\n",
    "image529×516 10.2 KB\n",
    "\n",
    "    Seaborn colormap that I was create, I want to create something similar in Plotly. How can I do that?\n",
    "    I was able to control the axis label sizes.\n",
    "    Would love to put values into each box ( annot option in seaborn), with rounding option\n"
   ]
  },
  {
   "cell_type": "code",
   "execution_count": null,
   "id": "4052a762-87be-4040-aa45-c287d35e8039",
   "metadata": {},
   "outputs": [],
   "source": []
  },
  {
   "cell_type": "code",
   "execution_count": null,
   "id": "f94182b6-21ff-4c6f-b4f2-656e0c0c7a86",
   "metadata": {},
   "outputs": [],
   "source": []
  },
  {
   "cell_type": "code",
   "execution_count": null,
   "id": "8effccf0-ace0-4c28-92f2-36a4e54093fa",
   "metadata": {},
   "outputs": [],
   "source": []
  },
  {
   "cell_type": "code",
   "execution_count": null,
   "id": "43d428f1-a8a3-434a-98e8-4544bf4e282b",
   "metadata": {},
   "outputs": [],
   "source": []
  },
  {
   "cell_type": "code",
   "execution_count": 11,
   "id": "bd2a3ab9-c040-4556-a1a3-a18383656700",
   "metadata": {},
   "outputs": [
    {
     "data": {
      "text/html": [
       "<div>\n",
       "<style scoped>\n",
       "    .dataframe tbody tr th:only-of-type {\n",
       "        vertical-align: middle;\n",
       "    }\n",
       "\n",
       "    .dataframe tbody tr th {\n",
       "        vertical-align: top;\n",
       "    }\n",
       "\n",
       "    .dataframe thead tr th {\n",
       "        text-align: left;\n",
       "    }\n",
       "\n",
       "    .dataframe thead tr:last-of-type th {\n",
       "        text-align: right;\n",
       "    }\n",
       "</style>\n",
       "<table border=\"1\" class=\"dataframe\">\n",
       "  <thead>\n",
       "    <tr>\n",
       "      <th></th>\n",
       "      <th colspan=\"8\" halign=\"left\">ID</th>\n",
       "      <th colspan=\"2\" halign=\"left\">Age</th>\n",
       "      <th>...</th>\n",
       "      <th colspan=\"2\" halign=\"left\">Work_Experience</th>\n",
       "      <th colspan=\"8\" halign=\"left\">Family_Size</th>\n",
       "    </tr>\n",
       "    <tr>\n",
       "      <th></th>\n",
       "      <th>count</th>\n",
       "      <th>mean</th>\n",
       "      <th>std</th>\n",
       "      <th>min</th>\n",
       "      <th>25%</th>\n",
       "      <th>50%</th>\n",
       "      <th>75%</th>\n",
       "      <th>max</th>\n",
       "      <th>count</th>\n",
       "      <th>mean</th>\n",
       "      <th>...</th>\n",
       "      <th>75%</th>\n",
       "      <th>max</th>\n",
       "      <th>count</th>\n",
       "      <th>mean</th>\n",
       "      <th>std</th>\n",
       "      <th>min</th>\n",
       "      <th>25%</th>\n",
       "      <th>50%</th>\n",
       "      <th>75%</th>\n",
       "      <th>max</th>\n",
       "    </tr>\n",
       "    <tr>\n",
       "      <th>Profession</th>\n",
       "      <th></th>\n",
       "      <th></th>\n",
       "      <th></th>\n",
       "      <th></th>\n",
       "      <th></th>\n",
       "      <th></th>\n",
       "      <th></th>\n",
       "      <th></th>\n",
       "      <th></th>\n",
       "      <th></th>\n",
       "      <th></th>\n",
       "      <th></th>\n",
       "      <th></th>\n",
       "      <th></th>\n",
       "      <th></th>\n",
       "      <th></th>\n",
       "      <th></th>\n",
       "      <th></th>\n",
       "      <th></th>\n",
       "      <th></th>\n",
       "      <th></th>\n",
       "    </tr>\n",
       "  </thead>\n",
       "  <tbody>\n",
       "    <tr>\n",
       "      <th>Artist</th>\n",
       "      <td>2516.0</td>\n",
       "      <td>463435.722178</td>\n",
       "      <td>2640.597412</td>\n",
       "      <td>458984.0</td>\n",
       "      <td>461318.75</td>\n",
       "      <td>463477.0</td>\n",
       "      <td>465704.25</td>\n",
       "      <td>467974.0</td>\n",
       "      <td>2516.0</td>\n",
       "      <td>46.327504</td>\n",
       "      <td>...</td>\n",
       "      <td>4.0</td>\n",
       "      <td>14.0</td>\n",
       "      <td>2447.0</td>\n",
       "      <td>2.510830</td>\n",
       "      <td>1.339302</td>\n",
       "      <td>1.0</td>\n",
       "      <td>2.0</td>\n",
       "      <td>2.0</td>\n",
       "      <td>3.0</td>\n",
       "      <td>9.0</td>\n",
       "    </tr>\n",
       "    <tr>\n",
       "      <th>Doctor</th>\n",
       "      <td>688.0</td>\n",
       "      <td>463475.863372</td>\n",
       "      <td>2547.318300</td>\n",
       "      <td>458993.0</td>\n",
       "      <td>461430.50</td>\n",
       "      <td>463341.5</td>\n",
       "      <td>465777.00</td>\n",
       "      <td>467958.0</td>\n",
       "      <td>688.0</td>\n",
       "      <td>37.225291</td>\n",
       "      <td>...</td>\n",
       "      <td>4.0</td>\n",
       "      <td>14.0</td>\n",
       "      <td>662.0</td>\n",
       "      <td>2.882175</td>\n",
       "      <td>1.519818</td>\n",
       "      <td>1.0</td>\n",
       "      <td>2.0</td>\n",
       "      <td>3.0</td>\n",
       "      <td>4.0</td>\n",
       "      <td>9.0</td>\n",
       "    </tr>\n",
       "    <tr>\n",
       "      <th>Engineer</th>\n",
       "      <td>699.0</td>\n",
       "      <td>463645.712446</td>\n",
       "      <td>2308.439205</td>\n",
       "      <td>458989.0</td>\n",
       "      <td>462088.50</td>\n",
       "      <td>463834.0</td>\n",
       "      <td>465412.00</td>\n",
       "      <td>467973.0</td>\n",
       "      <td>699.0</td>\n",
       "      <td>41.745351</td>\n",
       "      <td>...</td>\n",
       "      <td>4.0</td>\n",
       "      <td>14.0</td>\n",
       "      <td>673.0</td>\n",
       "      <td>2.982169</td>\n",
       "      <td>1.725934</td>\n",
       "      <td>1.0</td>\n",
       "      <td>2.0</td>\n",
       "      <td>3.0</td>\n",
       "      <td>4.0</td>\n",
       "      <td>9.0</td>\n",
       "    </tr>\n",
       "    <tr>\n",
       "      <th>Entertainment</th>\n",
       "      <td>949.0</td>\n",
       "      <td>463464.691254</td>\n",
       "      <td>2598.006649</td>\n",
       "      <td>459055.0</td>\n",
       "      <td>460953.00</td>\n",
       "      <td>463369.0</td>\n",
       "      <td>465766.00</td>\n",
       "      <td>467967.0</td>\n",
       "      <td>949.0</td>\n",
       "      <td>43.005269</td>\n",
       "      <td>...</td>\n",
       "      <td>5.0</td>\n",
       "      <td>14.0</td>\n",
       "      <td>909.0</td>\n",
       "      <td>2.788779</td>\n",
       "      <td>1.431800</td>\n",
       "      <td>1.0</td>\n",
       "      <td>2.0</td>\n",
       "      <td>2.0</td>\n",
       "      <td>4.0</td>\n",
       "      <td>9.0</td>\n",
       "    </tr>\n",
       "    <tr>\n",
       "      <th>Executive</th>\n",
       "      <td>599.0</td>\n",
       "      <td>463623.721202</td>\n",
       "      <td>2509.078378</td>\n",
       "      <td>458982.0</td>\n",
       "      <td>461730.00</td>\n",
       "      <td>463738.0</td>\n",
       "      <td>465317.00</td>\n",
       "      <td>467961.0</td>\n",
       "      <td>599.0</td>\n",
       "      <td>51.096828</td>\n",
       "      <td>...</td>\n",
       "      <td>3.0</td>\n",
       "      <td>13.0</td>\n",
       "      <td>585.0</td>\n",
       "      <td>3.429060</td>\n",
       "      <td>1.482377</td>\n",
       "      <td>1.0</td>\n",
       "      <td>2.0</td>\n",
       "      <td>3.0</td>\n",
       "      <td>4.0</td>\n",
       "      <td>9.0</td>\n",
       "    </tr>\n",
       "    <tr>\n",
       "      <th>Healthcare</th>\n",
       "      <td>1332.0</td>\n",
       "      <td>463516.695946</td>\n",
       "      <td>2614.922821</td>\n",
       "      <td>458985.0</td>\n",
       "      <td>461217.50</td>\n",
       "      <td>463491.0</td>\n",
       "      <td>465931.00</td>\n",
       "      <td>467965.0</td>\n",
       "      <td>1332.0</td>\n",
       "      <td>26.827327</td>\n",
       "      <td>...</td>\n",
       "      <td>4.0</td>\n",
       "      <td>14.0</td>\n",
       "      <td>1264.0</td>\n",
       "      <td>3.685918</td>\n",
       "      <td>1.534071</td>\n",
       "      <td>1.0</td>\n",
       "      <td>3.0</td>\n",
       "      <td>4.0</td>\n",
       "      <td>4.0</td>\n",
       "      <td>9.0</td>\n",
       "    </tr>\n",
       "    <tr>\n",
       "      <th>Homemaker</th>\n",
       "      <td>246.0</td>\n",
       "      <td>463689.878049</td>\n",
       "      <td>2516.559402</td>\n",
       "      <td>459268.0</td>\n",
       "      <td>461201.25</td>\n",
       "      <td>463053.5</td>\n",
       "      <td>466468.50</td>\n",
       "      <td>467817.0</td>\n",
       "      <td>246.0</td>\n",
       "      <td>37.922764</td>\n",
       "      <td>...</td>\n",
       "      <td>9.0</td>\n",
       "      <td>14.0</td>\n",
       "      <td>216.0</td>\n",
       "      <td>2.240741</td>\n",
       "      <td>1.474562</td>\n",
       "      <td>1.0</td>\n",
       "      <td>1.0</td>\n",
       "      <td>2.0</td>\n",
       "      <td>3.0</td>\n",
       "      <td>9.0</td>\n",
       "    </tr>\n",
       "    <tr>\n",
       "      <th>Lawyer</th>\n",
       "      <td>623.0</td>\n",
       "      <td>463311.056180</td>\n",
       "      <td>2836.622366</td>\n",
       "      <td>458987.0</td>\n",
       "      <td>460780.00</td>\n",
       "      <td>463119.0</td>\n",
       "      <td>466150.50</td>\n",
       "      <td>467952.0</td>\n",
       "      <td>623.0</td>\n",
       "      <td>75.215088</td>\n",
       "      <td>...</td>\n",
       "      <td>1.0</td>\n",
       "      <td>14.0</td>\n",
       "      <td>590.0</td>\n",
       "      <td>1.935593</td>\n",
       "      <td>1.022292</td>\n",
       "      <td>1.0</td>\n",
       "      <td>1.0</td>\n",
       "      <td>2.0</td>\n",
       "      <td>2.0</td>\n",
       "      <td>9.0</td>\n",
       "    </tr>\n",
       "    <tr>\n",
       "      <th>Marketing</th>\n",
       "      <td>292.0</td>\n",
       "      <td>463318.020548</td>\n",
       "      <td>2470.860221</td>\n",
       "      <td>458988.0</td>\n",
       "      <td>461134.75</td>\n",
       "      <td>463398.5</td>\n",
       "      <td>465354.75</td>\n",
       "      <td>467940.0</td>\n",
       "      <td>292.0</td>\n",
       "      <td>36.818493</td>\n",
       "      <td>...</td>\n",
       "      <td>4.0</td>\n",
       "      <td>14.0</td>\n",
       "      <td>275.0</td>\n",
       "      <td>3.072727</td>\n",
       "      <td>1.672606</td>\n",
       "      <td>1.0</td>\n",
       "      <td>2.0</td>\n",
       "      <td>3.0</td>\n",
       "      <td>4.0</td>\n",
       "      <td>9.0</td>\n",
       "    </tr>\n",
       "  </tbody>\n",
       "</table>\n",
       "<p>9 rows × 32 columns</p>\n",
       "</div>"
      ],
      "text/plain": [
       "                   ID                                                   \\\n",
       "                count           mean          std       min        25%   \n",
       "Profession                                                               \n",
       "Artist         2516.0  463435.722178  2640.597412  458984.0  461318.75   \n",
       "Doctor          688.0  463475.863372  2547.318300  458993.0  461430.50   \n",
       "Engineer        699.0  463645.712446  2308.439205  458989.0  462088.50   \n",
       "Entertainment   949.0  463464.691254  2598.006649  459055.0  460953.00   \n",
       "Executive       599.0  463623.721202  2509.078378  458982.0  461730.00   \n",
       "Healthcare     1332.0  463516.695946  2614.922821  458985.0  461217.50   \n",
       "Homemaker       246.0  463689.878049  2516.559402  459268.0  461201.25   \n",
       "Lawyer          623.0  463311.056180  2836.622366  458987.0  460780.00   \n",
       "Marketing       292.0  463318.020548  2470.860221  458988.0  461134.75   \n",
       "\n",
       "                                                 Age             ...  \\\n",
       "                    50%        75%       max   count       mean  ...   \n",
       "Profession                                                       ...   \n",
       "Artist         463477.0  465704.25  467974.0  2516.0  46.327504  ...   \n",
       "Doctor         463341.5  465777.00  467958.0   688.0  37.225291  ...   \n",
       "Engineer       463834.0  465412.00  467973.0   699.0  41.745351  ...   \n",
       "Entertainment  463369.0  465766.00  467967.0   949.0  43.005269  ...   \n",
       "Executive      463738.0  465317.00  467961.0   599.0  51.096828  ...   \n",
       "Healthcare     463491.0  465931.00  467965.0  1332.0  26.827327  ...   \n",
       "Homemaker      463053.5  466468.50  467817.0   246.0  37.922764  ...   \n",
       "Lawyer         463119.0  466150.50  467952.0   623.0  75.215088  ...   \n",
       "Marketing      463398.5  465354.75  467940.0   292.0  36.818493  ...   \n",
       "\n",
       "              Work_Experience       Family_Size                                \\\n",
       "                          75%   max       count      mean       std  min  25%   \n",
       "Profession                                                                      \n",
       "Artist                    4.0  14.0      2447.0  2.510830  1.339302  1.0  2.0   \n",
       "Doctor                    4.0  14.0       662.0  2.882175  1.519818  1.0  2.0   \n",
       "Engineer                  4.0  14.0       673.0  2.982169  1.725934  1.0  2.0   \n",
       "Entertainment             5.0  14.0       909.0  2.788779  1.431800  1.0  2.0   \n",
       "Executive                 3.0  13.0       585.0  3.429060  1.482377  1.0  2.0   \n",
       "Healthcare                4.0  14.0      1264.0  3.685918  1.534071  1.0  3.0   \n",
       "Homemaker                 9.0  14.0       216.0  2.240741  1.474562  1.0  1.0   \n",
       "Lawyer                    1.0  14.0       590.0  1.935593  1.022292  1.0  1.0   \n",
       "Marketing                 4.0  14.0       275.0  3.072727  1.672606  1.0  2.0   \n",
       "\n",
       "                              \n",
       "               50%  75%  max  \n",
       "Profession                    \n",
       "Artist         2.0  3.0  9.0  \n",
       "Doctor         3.0  4.0  9.0  \n",
       "Engineer       3.0  4.0  9.0  \n",
       "Entertainment  2.0  4.0  9.0  \n",
       "Executive      3.0  4.0  9.0  \n",
       "Healthcare     4.0  4.0  9.0  \n",
       "Homemaker      2.0  3.0  9.0  \n",
       "Lawyer         2.0  2.0  9.0  \n",
       "Marketing      3.0  4.0  9.0  \n",
       "\n",
       "[9 rows x 32 columns]"
      ]
     },
     "execution_count": 11,
     "metadata": {},
     "output_type": "execute_result"
    }
   ],
   "source": [
    "customer_data.groupby(['Profession']).describe()"
   ]
  },
  {
   "cell_type": "code",
   "execution_count": null,
   "id": "edf2f325-aa6f-4116-8089-ef0f014f6359",
   "metadata": {},
   "outputs": [],
   "source": []
  },
  {
   "cell_type": "code",
   "execution_count": null,
   "id": "05d449ae-b2ea-4c37-a170-fc2f143221d3",
   "metadata": {},
   "outputs": [],
   "source": []
  },
  {
   "cell_type": "code",
   "execution_count": null,
   "id": "388e05a1-12c8-404f-a458-2428822821fe",
   "metadata": {},
   "outputs": [],
   "source": []
  },
  {
   "cell_type": "code",
   "execution_count": null,
   "id": "d14d29e9-0b98-4758-b08b-47b5e00f761c",
   "metadata": {},
   "outputs": [],
   "source": []
  },
  {
   "cell_type": "code",
   "execution_count": null,
   "id": "c531b781-780a-4fa1-95da-48821f66f8b1",
   "metadata": {},
   "outputs": [],
   "source": []
  },
  {
   "cell_type": "code",
   "execution_count": null,
   "id": "51e3d93b-84c9-4373-b9d4-4061f6467ee9",
   "metadata": {},
   "outputs": [],
   "source": []
  },
  {
   "cell_type": "markdown",
   "id": "524cfb05-c07b-410c-82b9-810d57f2ef6c",
   "metadata": {},
   "source": [
    "Need to assign imputation of data to the columns Ever_Married, Graduated, Profession, Work_Experience, Family_Size, and Var_1 where possible. Probably need to segment data by Segmentation and then by other columns as much as possible in order to attempt accurate imputation."
   ]
  },
  {
   "cell_type": "markdown",
   "id": "209abbc1-4c7d-4160-9fa7-db1b2660eec8",
   "metadata": {},
   "source": [
    "### Stage 3 - Data Preprocessing    \n",
    "\n",
    "Objective: Prepare the dataset for segmentation modeling by handling missing values and encoding categorical variables.  \n",
    "Steps: Address any missing or inconsistent data points.\n",
    "    Encode categorical variables, such as gender, marital status, education, profession, and Var_1, to make them suitable for segmentation modeling.  "
   ]
  },
  {
   "cell_type": "code",
   "execution_count": null,
   "id": "f297c404-12d8-4608-8334-ef9e31bf6f1f",
   "metadata": {},
   "outputs": [],
   "source": [
    "### The nature of the data "
   ]
  },
  {
   "cell_type": "code",
   "execution_count": 46,
   "id": "4d5b4fa1-911e-405a-bbd0-712c5f881152",
   "metadata": {},
   "outputs": [],
   "source": [
    "customer_data_cleaned = customer_data.dropna()\n",
    "customer_data_cleaned.to_csv(\"Customer_Segmentation_Dataset_DropedNA.csv\")"
   ]
  },
  {
   "cell_type": "code",
   "execution_count": null,
   "id": "e03e735f-8fdf-446e-a62e-48dcc81e94dc",
   "metadata": {},
   "outputs": [],
   "source": []
  },
  {
   "cell_type": "code",
   "execution_count": null,
   "id": "66268c96-ebaf-4db2-9927-09f6612b8e3f",
   "metadata": {},
   "outputs": [],
   "source": []
  },
  {
   "cell_type": "code",
   "execution_count": null,
   "id": "706e96d0-b7d0-4bd8-94c6-ceed3f2da8cc",
   "metadata": {},
   "outputs": [],
   "source": []
  },
  {
   "cell_type": "code",
   "execution_count": null,
   "id": "d8de30cc-1860-49da-86f7-ab70d1651a23",
   "metadata": {},
   "outputs": [],
   "source": []
  },
  {
   "cell_type": "code",
   "execution_count": null,
   "id": "c301e37b-b4f3-497c-8d98-c4443deef09a",
   "metadata": {},
   "outputs": [],
   "source": []
  }
 ],
 "metadata": {
  "kernelspec": {
   "display_name": "Python 3",
   "language": "python",
   "name": "python3"
  },
  "language_info": {
   "codemirror_mode": {
    "name": "ipython",
    "version": 3
   },
   "file_extension": ".py",
   "mimetype": "text/x-python",
   "name": "python",
   "nbconvert_exporter": "python",
   "pygments_lexer": "ipython3",
   "version": "3.7.9"
  }
 },
 "nbformat": 4,
 "nbformat_minor": 5
}
