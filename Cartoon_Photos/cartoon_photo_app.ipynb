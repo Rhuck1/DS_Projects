{
 "cells": [
  {
   "cell_type": "code",
   "execution_count": 1,
   "id": "993dacde-9d4b-4d8e-b0f9-18f2cc54ef2d",
   "metadata": {},
   "outputs": [],
   "source": [
    "import cv2\n",
    "import numpy as np\n",
    "from google.colab.patches import cv2_imshow\n",
    "from google.colab import files"
   ]
  },
  {
   "cell_type": "code",
   "execution_count": 2,
   "id": "ee1afc32-db69-4147-a1fb-84f44b9a3b54",
   "metadata": {
    "scrolled": true,
    "tags": []
   },
   "outputs": [
    {
     "data": {
      "text/plain": [
       "array([[[185, 204, 212],\n",
       "        [185, 204, 212],\n",
       "        [186, 205, 213],\n",
       "        ...,\n",
       "        [166, 186, 197],\n",
       "        [166, 186, 197],\n",
       "        [166, 186, 197]],\n",
       "\n",
       "       [[185, 204, 212],\n",
       "        [185, 204, 212],\n",
       "        [185, 204, 212],\n",
       "        ...,\n",
       "        [166, 186, 197],\n",
       "        [165, 185, 196],\n",
       "        [165, 185, 196]],\n",
       "\n",
       "       [[184, 203, 211],\n",
       "        [185, 204, 212],\n",
       "        [185, 204, 212],\n",
       "        ...,\n",
       "        [166, 186, 197],\n",
       "        [164, 184, 195],\n",
       "        [164, 184, 195]],\n",
       "\n",
       "       ...,\n",
       "\n",
       "       [[161, 185, 191],\n",
       "        [161, 185, 191],\n",
       "        [161, 185, 191],\n",
       "        ...,\n",
       "        [153, 177, 183],\n",
       "        [147, 171, 177],\n",
       "        [144, 168, 174]],\n",
       "\n",
       "       [[160, 184, 190],\n",
       "        [160, 184, 190],\n",
       "        [160, 184, 190],\n",
       "        ...,\n",
       "        [163, 187, 193],\n",
       "        [159, 183, 189],\n",
       "        [157, 181, 187]],\n",
       "\n",
       "       [[160, 184, 190],\n",
       "        [160, 184, 190],\n",
       "        [160, 184, 190],\n",
       "        ...,\n",
       "        [170, 194, 200],\n",
       "        [168, 192, 198],\n",
       "        [167, 191, 197]]], dtype=uint8)"
      ]
     },
     "execution_count": 2,
     "metadata": {},
     "output_type": "execute_result"
    }
   ],
   "source": [
    "def read_file(filename):\n",
    "  img = cv2.imread(filename)\n",
    "  cv2_imshow(img)\n",
    "  return img"
   ]
  },
  {
   "cell_type": "code",
   "execution_count": 3,
   "id": "568b479f-3d90-4594-8ff7-26c5f194b577",
   "metadata": {},
   "outputs": [
    {
     "data": {
      "text/plain": [
       "13"
      ]
     },
     "execution_count": 3,
     "metadata": {},
     "output_type": "execute_result"
    }
   ],
   "source": [
    "def color_quantization(img, k):\n",
    "# Transform the image\n",
    "  data = np.float32(img).reshape((-1, 3))\n",
    "\n",
    "# Determine criteria\n",
    "  criteria = (cv2.TERM_CRITERIA_EPS + cv2.TERM_CRITERIA_MAX_ITER, 20, 0.001)\n",
    "\n",
    "# Implementing K-Means\n",
    "  ret, label, center = cv2.kmeans(data, k, None, criteria, 10, cv2.KMEANS_RANDOM_CENTERS)\n",
    "  center = np.uint8(center)\n",
    "  result = center[label.flatten()]\n",
    "  result = result.reshape(img.shape)\n",
    "  return result"
   ]
  },
  {
   "cell_type": "code",
   "execution_count": null,
   "id": "d6d3b092-9255-42bb-a1f0-da867ae31517",
   "metadata": {},
   "outputs": [],
   "source": [
    "def edge_mask(img, line_size, blur_value):\n",
    "  gray = cv2.cvtColor(img, cv2.COLOR_BGR2GRAY)\n",
    "  gray_blur = cv2.medianBlur(gray, blur_value)\n",
    "  edges = cv2.adaptiveThreshold(gray_blur, 255, cv2.ADAPTIVE_THRESH_MEAN_C, cv2.THRESH_BINARY, line_size, blur_value)\n",
    "  return edges"
   ]
  },
  {
   "cell_type": "code",
   "execution_count": 10,
   "id": "f44b6a9e-de96-4b09-a3cf-461b5e228ea2",
   "metadata": {},
   "outputs": [
    {
     "name": "stdout",
     "output_type": "stream",
     "text": [
      "1\n",
      "2\n",
      "3\n",
      "4\n",
      "5\n",
      "6\n",
      "7\n",
      "8\n",
      "9\n",
      "10\n"
     ]
    }
   ],
   "source": [
    "uploaded = files.upload()\n",
    "\n",
    "filename = next(iter(uploaded))\n",
    "img = read_file(filename)"
   ]
  },
  {
   "cell_type": "code",
   "execution_count": null,
   "id": "fbbee79d-9f3a-46cb-8464-e650cc5d1441",
   "metadata": {},
   "outputs": [],
   "source": [
    "line_size = 5\n",
    "blur_value = 3\n",
    "\n",
    "edges = edge_mask(img, line_size, blur_value)\n",
    "cv2_imshow(edges)"
   ]
  },
  {
   "cell_type": "code",
   "execution_count": null,
   "id": "8c20eba0-c399-42cf-8812-ac9597991447",
   "metadata": {},
   "outputs": [],
   "source": [
    "total_color = 15\n",
    "\n",
    "img = color_quantization(img, total_color)\n",
    "cv2_imshow(img)"
   ]
  },
  {
   "cell_type": "code",
   "execution_count": null,
   "id": "9ec5eee4-5d9d-43a8-857a-5547b6a269b2",
   "metadata": {},
   "outputs": [],
   "source": [
    "blurred = cv2.bilateralFilter(img, d=7, sigmaColor=200,sigmaSpace=200)\n",
    "cv2_imshow(blurred)"
   ]
  },
  {
   "cell_type": "code",
   "execution_count": null,
   "id": "26191979-72a3-4a55-b241-07d8c74f5203",
   "metadata": {},
   "outputs": [],
   "source": [
    "cartoon = cv2.bitwise_and(blurred, blurred, mask=edges)\n",
    "cv2_imshow(cartoon)\n",
    "\n",
    "filename = 'cartoon.jpeg'\n",
    "# Using cv2.imwrite() method \n",
    "# Saving the image \n",
    "cv2.imwrite(filename, cartoon) "
   ]
  },
  {
   "cell_type": "code",
   "execution_count": null,
   "id": "53eee2e0-0b0d-4a35-9624-74ad7e989fb3",
   "metadata": {},
   "outputs": [],
   "source": [
    "filename = 'cartoon.jpeg'\n",
    "  \n",
    "# Using cv2.imwrite() method \n",
    "# Saving the image \n",
    "cv2.imwrite(filename, img) "
   ]
  },
  {
   "cell_type": "code",
   "execution_count": null,
   "id": "11ca6b6f-6164-44db-bf2d-e00493601cee",
   "metadata": {},
   "outputs": [],
   "source": []
  }
 ],
 "metadata": {
  "kernelspec": {
   "display_name": "Python 3",
   "language": "python",
   "name": "python3"
  },
  "language_info": {
   "codemirror_mode": {
    "name": "ipython",
    "version": 3
   },
   "file_extension": ".py",
   "mimetype": "text/x-python",
   "name": "python",
   "nbconvert_exporter": "python",
   "pygments_lexer": "ipython3",
   "version": "3.7.9"
  }
 },
 "nbformat": 4,
 "nbformat_minor": 5
}
